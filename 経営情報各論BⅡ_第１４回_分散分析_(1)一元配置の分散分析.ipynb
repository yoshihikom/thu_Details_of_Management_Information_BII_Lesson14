{
  "cells": [
    {
      "cell_type": "markdown",
      "metadata": {
        "id": "view-in-github",
        "colab_type": "text"
      },
      "source": [
        "<a href=\"https://colab.research.google.com/github/yoshihikom/thu_Details_of_Management_Information_BII_Lesson14/blob/main/%E7%B5%8C%E5%96%B6%E6%83%85%E5%A0%B1%E5%90%84%E8%AB%96B%E2%85%A1_%E7%AC%AC%EF%BC%91%EF%BC%94%E5%9B%9E_%E5%88%86%E6%95%A3%E5%88%86%E6%9E%90_(1)%E4%B8%80%E5%85%83%E9%85%8D%E7%BD%AE%E3%81%AE%E5%88%86%E6%95%A3%E5%88%86%E6%9E%90.ipynb\" target=\"_parent\"><img src=\"https://colab.research.google.com/assets/colab-badge.svg\" alt=\"Open In Colab\"/></a>"
      ]
    },
    {
      "cell_type": "markdown",
      "metadata": {
        "id": "-FzZVliI6tmv"
      },
      "source": [
        "# 経営情報各論BⅡ：14. 分散分析(1)\n",
        "\n",
        "## (1)一元配置の分散分析\n",
        "\n",
        "この内容は，<A HREF=\"http://whitewell.sakura.ne.jp/PythonProbStat/Python-statistics6.html\" target=\"_blank\">白井(2018)「確率統計学B講義資料」の「Pythonで統計学を学ぶ(6)」，<A HREF=\"http://shop.ohmsha.co.jp/shop/shopdetail.html?brandcode=000000001781&search=978-4-274-06710-5&sort=\" target=\"_blank\">山田、杉澤、村井(2008)「R」によるやさしい統計学</A>、および<A HREF=\"https://www.marsja.se/four-ways-to-conduct-one-way-anovas-using-python/\" target=\"_blank\">Erik Marsjaの記事</A>を参考にしています。\n",
        "\n",
        "\n",
        "ここでは、「分散分析」のうち、「一元配置分散分析」をとりあげます。\n",
        "分散分析は3つ以上の群の平均値を比較したり、ある条件の違いによって母平均が異なるかを検定します。\n",
        "\n",
        "講義項目です:\n",
        "* <A HREF=\"#RS06:nonpaired\">（繰り返しのない）一元配置分散分析</A>\n",
        "* <A HREF=\"#RS06:paired\">繰り返しのある一元配置分散分析</A>\n",
        "* <A HREF=\"#Functions\">関数のまとめ</A>\n",
        "* <A HREF=\"#Exercises\">演習問題</A>\n"
      ]
    },
    {
      "cell_type": "markdown",
      "metadata": {
        "id": "zvZHeKsk6tmw"
      },
      "source": [
        "## 分散分析とは\n",
        "\n",
        "**分散分析**(ANOVA, Analysis Of Variance)\n",
        "とは、３つ以上の群の平均値差の検定や、条件(の組み合わせ)の違いによって母平均が異なるかどうかを検定する方法です\n",
        "(注意:「分散」という名前に惑わされないように)\n",
        "<P>\n",
        "データにおいて変数がとる値は、以下の『要因』によるものと「誤差」によるものがあるとみなせます:\n",
        "\n",
        "* **要因**: 母平均に違いをもたらす原因\n",
        "* **水準**: ある要因の中に含まれる個々の条件\n",
        "\n",
        "\n",
        "そして、<font class=\"important\">\n",
        "「データ全体のばらつき」は、『要因によるばらつき』と『誤差によるばらつき』の和</font>とみなせます。分散分析は、データ全体のばらつきを「平方和」として表し、それを要因ごとに分け、誤差に比べて大きな影響を与えている要因を探し出し、推測に利用する方法です。\n",
        "<BR>\n",
        "具体的には、ある要因の水準ごとに分けたデータ(群)について、それぞれの群の平均を求めます。そして全データに対し、その群の平均を引いた差の2乗を求めます。Pythonで書くと(「全データを表す」変数に行列データが入っているとします):\n",
        "<BR>\n",
        "\n",
        "```\n",
        "import numpy as np\n",
        "import pandas as pd\n",
        "# A, B, C, Dは「一元配置の分散分析」の例からとった。1要因4水準\n",
        "A = np.array([8.40,4.44,7.71,7.23,3.57,3.53,3.77,7.31])\n",
        "B = np.array([6.79,5.74,5.02,6.71,8.57,8.49,7.80,5.29])\n",
        "C = np.array([5.79,8.65,10.38,6.25,8.22,7.15,9.32,5.62])\n",
        "D = np.array([7.30,9.20,7.71,8.14,7.14,11.35,6.77,7.97])\n",
        "\n",
        "AllData = pd.DataFrame({'A':A, 'B':B, 'C':C, 'D':D})  # データフレームを作る:全データ\n",
        "GroupAverage = AllData.mean()\t# 水準ごとの平均のベクトル:群平均\n",
        "# 水準ごとの平均のベクトルを行数だけ並べた行列を作る\n",
        "GroupAverageMatrix =np.ones(AllData.shape)       # 群平均行列の形の生成\n",
        "for i in range(AllData.shape[1]):                # 要素をいれていく\n",
        "    GroupAverageMatrix[:,i] = AllData.mean().iloc[i]   # 水準ごとの平均\n",
        "\n",
        "InGroup = np.array(AllData - GroupAverageMatrix)  # 各データと、その群内の平均との差\n",
        "\n",
        "InGroupSquareSum = np.sum(InGroup**2)\t\t# 　群内平方和\n",
        "\n",
        "Divider = InGroupSquareSum /( ( len(AllData.index) -1.0)*len(AllData.columns)) # 分母\n",
        "```\n",
        "\n",
        "このように「それぞれのデータと群平均との差の2乗の和」が「群の中のデータのばらつき」を表し、これが(<font class=\"word\">群内平方和</font>)と呼ばれるものです。そして、これを群内の自由度(「各群のデータ数-1」の和)で割ったものが、各データの「<font class=\"word\">誤差によるばらつき</font>」を表しているとみなすことができます。\n",
        "<P>\n",
        "一方、「<font class=\"word\">要因によるばらつき</font>」は、群間のばらつきで表されます。それは「全データの平均と各群の平均の差」の2乗の和を、群間の自由度(群の数-1、つまり水準数-1)で割った値と計算されます:\n",
        "<BR>\n",
        "```\n",
        "# 全データの和の平均</font>\n",
        "OverallMean = np.sum(AllData.mean())/len(AllData.columns)   # 全体平均\n",
        "# 各群ごと「群平均-全平均」からなる行列\n",
        "InterGroup =GroupAverageMatrix - np.ones(AllData.shape)*OverallMean  # 群間\n",
        "InterGroupSquareSum = np.sum(InterGroup**2)  # 群間平方和\n",
        "\n",
        "Dividend = InterGroupSquareSum / (len(AllData.columns) - 1.0) # 分子\n",
        "```\n",
        "群間平方和を群間の自由度で割った値（「分子」の値）が『<font class=\"word\">要因によるばらつき</font>』です。これを「誤差によるばらつき」で割った値が<font class=\"important\">F</font>であり、Fの値によって要因のばらつきの影響を推定するのが分散分析です(この計算方法が「分散」という名前がついている理由です。なお、Fは統計学者Fisherに由来します)。\n",
        "<BR>\n",
        "```\n",
        "Dividend    # 分子\n",
        "⇒ 9.21992812499999\n",
        "Divider     # 分母\n",
        "⇒ 2.890185267857143\n",
        "F = Dividend / Divider      # F = 分子/分母\n",
        "⇒ 3.190082043368756\n",
        "```\n"
      ]
    },
    {
      "cell_type": "markdown",
      "metadata": {
        "id": "8Id60zvP6tmx"
      },
      "source": [
        "## 一元配置の分散分析の例（講義で説明した例）\n",
        "\n",
        "４種の飼料A,B,C,Dを各々子豚８頭に与え，１月後の体重増加を調べ，飼料の効果があるのかを一元配置の分散分析を行い検証する．"
      ]
    },
    {
      "cell_type": "code",
      "execution_count": null,
      "metadata": {
        "id": "JYspf8Tw6tmx"
      },
      "outputs": [],
      "source": [
        "import numpy as np\n",
        "# A, B, C, Dは「対応のない一元配置分散分析」の例からとった。1要因4水準\n",
        "A = np.array([8.40,4.44,7.71,7.23,3.57,3.53,3.77,7.31])\n",
        "B = np.array([6.79,5.74,5.02,6.71,8.57,8.49,7.80,5.29])\n",
        "C = np.array([5.79,8.65,10.38,6.25,8.22,7.15,9.32,5.62])\n",
        "D = np.array([7.30,9.20,7.71,8.14,7.14,11.35,6.77,7.97])"
      ]
    },
    {
      "cell_type": "code",
      "execution_count": null,
      "metadata": {
        "colab": {
          "base_uri": "https://localhost:8080/",
          "height": 300
        },
        "id": "oXB00iTH6tmy",
        "outputId": "5a55c6bd-ed82-4dd2-be16-af21f0c0c60e"
      },
      "outputs": [
        {
          "output_type": "execute_result",
          "data": {
            "text/plain": [
              "      A     B      C      D\n",
              "0  8.40  6.79   5.79   7.30\n",
              "1  4.44  5.74   8.65   9.20\n",
              "2  7.71  5.02  10.38   7.71\n",
              "3  7.23  6.71   6.25   8.14\n",
              "4  3.57  8.57   8.22   7.14\n",
              "5  3.53  8.49   7.15  11.35\n",
              "6  3.77  7.80   9.32   6.77\n",
              "7  7.31  5.29   5.62   7.97"
            ],
            "text/html": [
              "\n",
              "  <div id=\"df-5ef2885a-3566-49f0-b0bc-825149a0de2f\" class=\"colab-df-container\">\n",
              "    <div>\n",
              "<style scoped>\n",
              "    .dataframe tbody tr th:only-of-type {\n",
              "        vertical-align: middle;\n",
              "    }\n",
              "\n",
              "    .dataframe tbody tr th {\n",
              "        vertical-align: top;\n",
              "    }\n",
              "\n",
              "    .dataframe thead th {\n",
              "        text-align: right;\n",
              "    }\n",
              "</style>\n",
              "<table border=\"1\" class=\"dataframe\">\n",
              "  <thead>\n",
              "    <tr style=\"text-align: right;\">\n",
              "      <th></th>\n",
              "      <th>A</th>\n",
              "      <th>B</th>\n",
              "      <th>C</th>\n",
              "      <th>D</th>\n",
              "    </tr>\n",
              "  </thead>\n",
              "  <tbody>\n",
              "    <tr>\n",
              "      <th>0</th>\n",
              "      <td>8.40</td>\n",
              "      <td>6.79</td>\n",
              "      <td>5.79</td>\n",
              "      <td>7.30</td>\n",
              "    </tr>\n",
              "    <tr>\n",
              "      <th>1</th>\n",
              "      <td>4.44</td>\n",
              "      <td>5.74</td>\n",
              "      <td>8.65</td>\n",
              "      <td>9.20</td>\n",
              "    </tr>\n",
              "    <tr>\n",
              "      <th>2</th>\n",
              "      <td>7.71</td>\n",
              "      <td>5.02</td>\n",
              "      <td>10.38</td>\n",
              "      <td>7.71</td>\n",
              "    </tr>\n",
              "    <tr>\n",
              "      <th>3</th>\n",
              "      <td>7.23</td>\n",
              "      <td>6.71</td>\n",
              "      <td>6.25</td>\n",
              "      <td>8.14</td>\n",
              "    </tr>\n",
              "    <tr>\n",
              "      <th>4</th>\n",
              "      <td>3.57</td>\n",
              "      <td>8.57</td>\n",
              "      <td>8.22</td>\n",
              "      <td>7.14</td>\n",
              "    </tr>\n",
              "    <tr>\n",
              "      <th>5</th>\n",
              "      <td>3.53</td>\n",
              "      <td>8.49</td>\n",
              "      <td>7.15</td>\n",
              "      <td>11.35</td>\n",
              "    </tr>\n",
              "    <tr>\n",
              "      <th>6</th>\n",
              "      <td>3.77</td>\n",
              "      <td>7.80</td>\n",
              "      <td>9.32</td>\n",
              "      <td>6.77</td>\n",
              "    </tr>\n",
              "    <tr>\n",
              "      <th>7</th>\n",
              "      <td>7.31</td>\n",
              "      <td>5.29</td>\n",
              "      <td>5.62</td>\n",
              "      <td>7.97</td>\n",
              "    </tr>\n",
              "  </tbody>\n",
              "</table>\n",
              "</div>\n",
              "    <div class=\"colab-df-buttons\">\n",
              "\n",
              "  <div class=\"colab-df-container\">\n",
              "    <button class=\"colab-df-convert\" onclick=\"convertToInteractive('df-5ef2885a-3566-49f0-b0bc-825149a0de2f')\"\n",
              "            title=\"Convert this dataframe to an interactive table.\"\n",
              "            style=\"display:none;\">\n",
              "\n",
              "  <svg xmlns=\"http://www.w3.org/2000/svg\" height=\"24px\" viewBox=\"0 -960 960 960\">\n",
              "    <path d=\"M120-120v-720h720v720H120Zm60-500h600v-160H180v160Zm220 220h160v-160H400v160Zm0 220h160v-160H400v160ZM180-400h160v-160H180v160Zm440 0h160v-160H620v160ZM180-180h160v-160H180v160Zm440 0h160v-160H620v160Z\"/>\n",
              "  </svg>\n",
              "    </button>\n",
              "\n",
              "  <style>\n",
              "    .colab-df-container {\n",
              "      display:flex;\n",
              "      gap: 12px;\n",
              "    }\n",
              "\n",
              "    .colab-df-convert {\n",
              "      background-color: #E8F0FE;\n",
              "      border: none;\n",
              "      border-radius: 50%;\n",
              "      cursor: pointer;\n",
              "      display: none;\n",
              "      fill: #1967D2;\n",
              "      height: 32px;\n",
              "      padding: 0 0 0 0;\n",
              "      width: 32px;\n",
              "    }\n",
              "\n",
              "    .colab-df-convert:hover {\n",
              "      background-color: #E2EBFA;\n",
              "      box-shadow: 0px 1px 2px rgba(60, 64, 67, 0.3), 0px 1px 3px 1px rgba(60, 64, 67, 0.15);\n",
              "      fill: #174EA6;\n",
              "    }\n",
              "\n",
              "    .colab-df-buttons div {\n",
              "      margin-bottom: 4px;\n",
              "    }\n",
              "\n",
              "    [theme=dark] .colab-df-convert {\n",
              "      background-color: #3B4455;\n",
              "      fill: #D2E3FC;\n",
              "    }\n",
              "\n",
              "    [theme=dark] .colab-df-convert:hover {\n",
              "      background-color: #434B5C;\n",
              "      box-shadow: 0px 1px 3px 1px rgba(0, 0, 0, 0.15);\n",
              "      filter: drop-shadow(0px 1px 2px rgba(0, 0, 0, 0.3));\n",
              "      fill: #FFFFFF;\n",
              "    }\n",
              "  </style>\n",
              "\n",
              "    <script>\n",
              "      const buttonEl =\n",
              "        document.querySelector('#df-5ef2885a-3566-49f0-b0bc-825149a0de2f button.colab-df-convert');\n",
              "      buttonEl.style.display =\n",
              "        google.colab.kernel.accessAllowed ? 'block' : 'none';\n",
              "\n",
              "      async function convertToInteractive(key) {\n",
              "        const element = document.querySelector('#df-5ef2885a-3566-49f0-b0bc-825149a0de2f');\n",
              "        const dataTable =\n",
              "          await google.colab.kernel.invokeFunction('convertToInteractive',\n",
              "                                                    [key], {});\n",
              "        if (!dataTable) return;\n",
              "\n",
              "        const docLinkHtml = 'Like what you see? Visit the ' +\n",
              "          '<a target=\"_blank\" href=https://colab.research.google.com/notebooks/data_table.ipynb>data table notebook</a>'\n",
              "          + ' to learn more about interactive tables.';\n",
              "        element.innerHTML = '';\n",
              "        dataTable['output_type'] = 'display_data';\n",
              "        await google.colab.output.renderOutput(dataTable, element);\n",
              "        const docLink = document.createElement('div');\n",
              "        docLink.innerHTML = docLinkHtml;\n",
              "        element.appendChild(docLink);\n",
              "      }\n",
              "    </script>\n",
              "  </div>\n",
              "\n",
              "\n",
              "<div id=\"df-c9b7f13a-2830-4154-9363-93ff5a9284a5\">\n",
              "  <button class=\"colab-df-quickchart\" onclick=\"quickchart('df-c9b7f13a-2830-4154-9363-93ff5a9284a5')\"\n",
              "            title=\"Suggest charts\"\n",
              "            style=\"display:none;\">\n",
              "\n",
              "<svg xmlns=\"http://www.w3.org/2000/svg\" height=\"24px\"viewBox=\"0 0 24 24\"\n",
              "     width=\"24px\">\n",
              "    <g>\n",
              "        <path d=\"M19 3H5c-1.1 0-2 .9-2 2v14c0 1.1.9 2 2 2h14c1.1 0 2-.9 2-2V5c0-1.1-.9-2-2-2zM9 17H7v-7h2v7zm4 0h-2V7h2v10zm4 0h-2v-4h2v4z\"/>\n",
              "    </g>\n",
              "</svg>\n",
              "  </button>\n",
              "\n",
              "<style>\n",
              "  .colab-df-quickchart {\n",
              "      --bg-color: #E8F0FE;\n",
              "      --fill-color: #1967D2;\n",
              "      --hover-bg-color: #E2EBFA;\n",
              "      --hover-fill-color: #174EA6;\n",
              "      --disabled-fill-color: #AAA;\n",
              "      --disabled-bg-color: #DDD;\n",
              "  }\n",
              "\n",
              "  [theme=dark] .colab-df-quickchart {\n",
              "      --bg-color: #3B4455;\n",
              "      --fill-color: #D2E3FC;\n",
              "      --hover-bg-color: #434B5C;\n",
              "      --hover-fill-color: #FFFFFF;\n",
              "      --disabled-bg-color: #3B4455;\n",
              "      --disabled-fill-color: #666;\n",
              "  }\n",
              "\n",
              "  .colab-df-quickchart {\n",
              "    background-color: var(--bg-color);\n",
              "    border: none;\n",
              "    border-radius: 50%;\n",
              "    cursor: pointer;\n",
              "    display: none;\n",
              "    fill: var(--fill-color);\n",
              "    height: 32px;\n",
              "    padding: 0;\n",
              "    width: 32px;\n",
              "  }\n",
              "\n",
              "  .colab-df-quickchart:hover {\n",
              "    background-color: var(--hover-bg-color);\n",
              "    box-shadow: 0 1px 2px rgba(60, 64, 67, 0.3), 0 1px 3px 1px rgba(60, 64, 67, 0.15);\n",
              "    fill: var(--button-hover-fill-color);\n",
              "  }\n",
              "\n",
              "  .colab-df-quickchart-complete:disabled,\n",
              "  .colab-df-quickchart-complete:disabled:hover {\n",
              "    background-color: var(--disabled-bg-color);\n",
              "    fill: var(--disabled-fill-color);\n",
              "    box-shadow: none;\n",
              "  }\n",
              "\n",
              "  .colab-df-spinner {\n",
              "    border: 2px solid var(--fill-color);\n",
              "    border-color: transparent;\n",
              "    border-bottom-color: var(--fill-color);\n",
              "    animation:\n",
              "      spin 1s steps(1) infinite;\n",
              "  }\n",
              "\n",
              "  @keyframes spin {\n",
              "    0% {\n",
              "      border-color: transparent;\n",
              "      border-bottom-color: var(--fill-color);\n",
              "      border-left-color: var(--fill-color);\n",
              "    }\n",
              "    20% {\n",
              "      border-color: transparent;\n",
              "      border-left-color: var(--fill-color);\n",
              "      border-top-color: var(--fill-color);\n",
              "    }\n",
              "    30% {\n",
              "      border-color: transparent;\n",
              "      border-left-color: var(--fill-color);\n",
              "      border-top-color: var(--fill-color);\n",
              "      border-right-color: var(--fill-color);\n",
              "    }\n",
              "    40% {\n",
              "      border-color: transparent;\n",
              "      border-right-color: var(--fill-color);\n",
              "      border-top-color: var(--fill-color);\n",
              "    }\n",
              "    60% {\n",
              "      border-color: transparent;\n",
              "      border-right-color: var(--fill-color);\n",
              "    }\n",
              "    80% {\n",
              "      border-color: transparent;\n",
              "      border-right-color: var(--fill-color);\n",
              "      border-bottom-color: var(--fill-color);\n",
              "    }\n",
              "    90% {\n",
              "      border-color: transparent;\n",
              "      border-bottom-color: var(--fill-color);\n",
              "    }\n",
              "  }\n",
              "</style>\n",
              "\n",
              "  <script>\n",
              "    async function quickchart(key) {\n",
              "      const quickchartButtonEl =\n",
              "        document.querySelector('#' + key + ' button');\n",
              "      quickchartButtonEl.disabled = true;  // To prevent multiple clicks.\n",
              "      quickchartButtonEl.classList.add('colab-df-spinner');\n",
              "      try {\n",
              "        const charts = await google.colab.kernel.invokeFunction(\n",
              "            'suggestCharts', [key], {});\n",
              "      } catch (error) {\n",
              "        console.error('Error during call to suggestCharts:', error);\n",
              "      }\n",
              "      quickchartButtonEl.classList.remove('colab-df-spinner');\n",
              "      quickchartButtonEl.classList.add('colab-df-quickchart-complete');\n",
              "    }\n",
              "    (() => {\n",
              "      let quickchartButtonEl =\n",
              "        document.querySelector('#df-c9b7f13a-2830-4154-9363-93ff5a9284a5 button');\n",
              "      quickchartButtonEl.style.display =\n",
              "        google.colab.kernel.accessAllowed ? 'block' : 'none';\n",
              "    })();\n",
              "  </script>\n",
              "</div>\n",
              "    </div>\n",
              "  </div>\n"
            ]
          },
          "metadata": {},
          "execution_count": 2
        }
      ],
      "source": [
        "import pandas as pd\n",
        "\n",
        "AllData = pd.DataFrame({'A':A, 'B':B, 'C':C, 'D':D})\n",
        "AllData"
      ]
    },
    {
      "cell_type": "code",
      "execution_count": null,
      "metadata": {
        "scrolled": true,
        "colab": {
          "base_uri": "https://localhost:8080/"
        },
        "id": "g0PFRD4f6tmy",
        "outputId": "82a76134-2488-415c-9f6d-5eb38d56e1aa"
      },
      "outputs": [
        {
          "output_type": "execute_result",
          "data": {
            "text/plain": [
              "A    5.74500\n",
              "B    6.80125\n",
              "C    7.67250\n",
              "D    8.19750\n",
              "dtype: float64"
            ]
          },
          "metadata": {},
          "execution_count": 3
        }
      ],
      "source": [
        "AllData.mean()"
      ]
    },
    {
      "cell_type": "code",
      "execution_count": null,
      "metadata": {
        "colab": {
          "base_uri": "https://localhost:8080/"
        },
        "id": "qd0Ml-_G6tmz",
        "outputId": "b235698b-4c88-45d7-bc48-6b1cc0b20a91"
      },
      "outputs": [
        {
          "output_type": "execute_result",
          "data": {
            "text/plain": [
              "array([[5.745  , 6.80125, 7.6725 , 8.1975 ],\n",
              "       [5.745  , 6.80125, 7.6725 , 8.1975 ],\n",
              "       [5.745  , 6.80125, 7.6725 , 8.1975 ],\n",
              "       [5.745  , 6.80125, 7.6725 , 8.1975 ],\n",
              "       [5.745  , 6.80125, 7.6725 , 8.1975 ],\n",
              "       [5.745  , 6.80125, 7.6725 , 8.1975 ],\n",
              "       [5.745  , 6.80125, 7.6725 , 8.1975 ],\n",
              "       [5.745  , 6.80125, 7.6725 , 8.1975 ]])"
            ]
          },
          "metadata": {},
          "execution_count": 4
        }
      ],
      "source": [
        "GroupAverageMatrix =np.ones(AllData.shape)\n",
        "for i in range(AllData.shape[1]):\n",
        "    GroupAverageMatrix[:,i] = AllData.mean().iloc[i]\n",
        "\n",
        "GroupAverageMatrix"
      ]
    },
    {
      "cell_type": "code",
      "execution_count": null,
      "metadata": {
        "colab": {
          "base_uri": "https://localhost:8080/"
        },
        "id": "3JlxsWOR6tmz",
        "outputId": "8e0e50b9-1712-4e7b-8626-1baa1dff9e4e"
      },
      "outputs": [
        {
          "output_type": "execute_result",
          "data": {
            "text/plain": [
              "array([[ 2.655  , -0.01125, -1.8825 , -0.8975 ],\n",
              "       [-1.305  , -1.06125,  0.9775 ,  1.0025 ],\n",
              "       [ 1.965  , -1.78125,  2.7075 , -0.4875 ],\n",
              "       [ 1.485  , -0.09125, -1.4225 , -0.0575 ],\n",
              "       [-2.175  ,  1.76875,  0.5475 , -1.0575 ],\n",
              "       [-2.215  ,  1.68875, -0.5225 ,  3.1525 ],\n",
              "       [-1.975  ,  0.99875,  1.6475 , -1.4275 ],\n",
              "       [ 1.565  , -1.51125, -2.0525 , -0.2275 ]])"
            ]
          },
          "metadata": {},
          "execution_count": 5
        }
      ],
      "source": [
        "InGroup = np.array(AllData - GroupAverageMatrix)\n",
        "InGroup"
      ]
    },
    {
      "cell_type": "code",
      "execution_count": null,
      "metadata": {
        "colab": {
          "base_uri": "https://localhost:8080/"
        },
        "id": "OAqnfEnh6tmz",
        "outputId": "6872b216-6373-4761-de8f-cb7e25a408cd"
      },
      "outputs": [
        {
          "output_type": "execute_result",
          "data": {
            "text/plain": [
              "80.9251875"
            ]
          },
          "metadata": {},
          "execution_count": 6
        }
      ],
      "source": [
        "InGroupSquareSum = np.sum(InGroup**2)\n",
        "InGroupSquareSum"
      ]
    },
    {
      "cell_type": "code",
      "execution_count": null,
      "metadata": {
        "colab": {
          "base_uri": "https://localhost:8080/"
        },
        "id": "yZxfJxmy6tmz",
        "outputId": "1c85fa53-2a71-4e92-cf9b-40b2a6474663"
      },
      "outputs": [
        {
          "output_type": "execute_result",
          "data": {
            "text/plain": [
              "7.1040624999999995"
            ]
          },
          "metadata": {},
          "execution_count": 7
        }
      ],
      "source": [
        "#len(AllData.columns)\n",
        "OverallMean = np.sum(AllData.mean())/len(AllData.columns)\n",
        "OverallMean"
      ]
    },
    {
      "cell_type": "code",
      "execution_count": null,
      "metadata": {
        "colab": {
          "base_uri": "https://localhost:8080/"
        },
        "id": "mFvImFdO6tm0",
        "outputId": "7eb7c654-fda3-42a7-d34b-052f42780548"
      },
      "outputs": [
        {
          "output_type": "execute_result",
          "data": {
            "text/plain": [
              "array([[-1.3590625, -0.3028125,  0.5684375,  1.0934375],\n",
              "       [-1.3590625, -0.3028125,  0.5684375,  1.0934375],\n",
              "       [-1.3590625, -0.3028125,  0.5684375,  1.0934375],\n",
              "       [-1.3590625, -0.3028125,  0.5684375,  1.0934375],\n",
              "       [-1.3590625, -0.3028125,  0.5684375,  1.0934375],\n",
              "       [-1.3590625, -0.3028125,  0.5684375,  1.0934375],\n",
              "       [-1.3590625, -0.3028125,  0.5684375,  1.0934375],\n",
              "       [-1.3590625, -0.3028125,  0.5684375,  1.0934375]])"
            ]
          },
          "metadata": {},
          "execution_count": 8
        }
      ],
      "source": [
        "InterGroup =GroupAverageMatrix - np.ones(AllData.shape)*OverallMean\n",
        "InterGroup"
      ]
    },
    {
      "cell_type": "code",
      "execution_count": null,
      "metadata": {
        "colab": {
          "base_uri": "https://localhost:8080/"
        },
        "id": "cVb3GNpw6tm0",
        "outputId": "eb8e9174-b8c3-4057-d67a-6282b3694e1f"
      },
      "outputs": [
        {
          "output_type": "execute_result",
          "data": {
            "text/plain": [
              "27.659784375"
            ]
          },
          "metadata": {},
          "execution_count": 9
        }
      ],
      "source": [
        "InterGroupSquareSum = np.sum(InterGroup**2)\n",
        "InterGroupSquareSum"
      ]
    },
    {
      "cell_type": "code",
      "execution_count": null,
      "metadata": {
        "colab": {
          "base_uri": "https://localhost:8080/"
        },
        "id": "c8g-Obaa6tm0",
        "outputId": "7f3e8a7c-d156-4dd1-9122-c37392552ac7"
      },
      "outputs": [
        {
          "output_type": "execute_result",
          "data": {
            "text/plain": [
              "9.219928125000001"
            ]
          },
          "metadata": {},
          "execution_count": 10
        }
      ],
      "source": [
        "Dividend = InterGroupSquareSum / (len(AllData.columns) - 1.0)\n",
        "Dividend"
      ]
    },
    {
      "cell_type": "code",
      "execution_count": null,
      "metadata": {
        "colab": {
          "base_uri": "https://localhost:8080/"
        },
        "id": "S7yC0Ecn6tm0",
        "outputId": "381e8bb1-44dc-4fa9-d69a-25f317dc2ed4"
      },
      "outputs": [
        {
          "output_type": "execute_result",
          "data": {
            "text/plain": [
              "2.890185267857143"
            ]
          },
          "metadata": {},
          "execution_count": 11
        }
      ],
      "source": [
        "Divider = InGroupSquareSum /( ( len(AllData.index) -1.0)*len(AllData.columns))\n",
        "Divider"
      ]
    },
    {
      "cell_type": "code",
      "execution_count": null,
      "metadata": {
        "colab": {
          "base_uri": "https://localhost:8080/"
        },
        "id": "2gVvWZvL6tm0",
        "outputId": "a7e4f340-01a0-4feb-8eb2-d09f34d41c92"
      },
      "outputs": [
        {
          "output_type": "execute_result",
          "data": {
            "text/plain": [
              "3.19008204336876"
            ]
          },
          "metadata": {},
          "execution_count": 12
        }
      ],
      "source": [
        "F = Dividend / Divider\n",
        "F"
      ]
    },
    {
      "cell_type": "markdown",
      "metadata": {
        "id": "NkOs814W6tm0"
      },
      "source": [
        "\n",
        "変数の値に影響を及ぼす要因が1個の場合<font class=\"word\">一元配置法</font>、要因が2個の場合<font class=\"word\">二元配置法</font>、\n",
        "3個以上の場合は<font class=\"word\">多元配置法</font>という。<BR>\n",
        "また要因と水準の組み合わせごとに実験が繰り返されてデータがとられる場合を<font class=\"word\">繰り返しのある二元配置法</font>などと呼ぶ。\n",
        "<P>\n",
        "一般に検定の結果として表示される<font class=\"word\">分散分析表</font>の構成 (PythonではFとpの値のみ):\n",
        "\n",
        "|要因 | 自由度(Df) |平方和(Sum Sq)|平均平方(Mean Sum Sq)|F値(F value)|P値|評価|\n",
        "|:---|:---|:---|:---|:---|:---|:---|\n",
        "|要因名|水準数-1|群間平方和|群間平方平均|F値|p値|<font color=\"green\">印</font>(表の下に説明)|\n",
        "|残差(Residuals)|水準数×(１群あたりのデータ数-1)|群内平方和|群内平方平均| 　| 　| 　|\n",
        "|合計|データ数-1| 　|　 　| 　| 　| 　|\n",
        "\n",
        "<font color=\"green\">評価の印</font>: 星印は有意(***は0.1%、**は1%、*は5%水準)、.は10%(「有意傾向」という)を表す\n",
        "\n",
        "<hr noshade=\"noshade\" size=\"4\">\n"
      ]
    },
    {
      "cell_type": "code",
      "execution_count": null,
      "metadata": {
        "colab": {
          "base_uri": "https://localhost:8080/"
        },
        "id": "w2DtgJn26tm0",
        "outputId": "4754d214-604e-47d4-84ef-ca414a7ad006"
      },
      "outputs": [
        {
          "output_type": "stream",
          "name": "stdout",
          "text": [
            "3.0 28.0\n"
          ]
        }
      ],
      "source": [
        "m=len(AllData.columns) - 1.0\n",
        "n= ( len(AllData.index) -1.0)*len(AllData.columns)\n",
        "print(m,n)"
      ]
    },
    {
      "cell_type": "code",
      "execution_count": null,
      "metadata": {
        "scrolled": true,
        "colab": {
          "base_uri": "https://localhost:8080/",
          "height": 472
        },
        "id": "Ign4hCNk6tm1",
        "outputId": "c8f898b3-2dc1-42f8-b501-34306dda0713"
      },
      "outputs": [
        {
          "output_type": "display_data",
          "data": {
            "text/plain": [
              "<Figure size 640x480 with 1 Axes>"
            ],
            "image/png": "[encoded data removed]"
          },
          "metadata": {}
        }
      ],
      "source": [
        "from __future__ import division\n",
        "\n",
        "%matplotlib inline\n",
        "from scipy import stats\n",
        "import numpy as np\n",
        "import matplotlib.pyplot as plt\n",
        "\n",
        "fig,ax = plt.subplots(1,1)\n",
        "x = np.linspace(0,8, 1000)\n",
        "\n",
        "ax.plot(x, stats.f.pdf(x, m,n), linestyle='-', label='f(x)')\n",
        "\n",
        "plt.xlabel('$x$')\n",
        "plt.ylabel(r'$f(x)$')\n",
        "plt.title(r'F-Distribution')\n",
        "plt.axis([-0.2,8,-0.02,1.2])\n",
        "plt.legend()\n",
        "plt.grid()"
      ]
    },
    {
      "cell_type": "code",
      "execution_count": null,
      "metadata": {
        "colab": {
          "base_uri": "https://localhost:8080/"
        },
        "id": "DGjd_8tz6tm1",
        "outputId": "829db578-3629-40e1-b005-7761917753cf"
      },
      "outputs": [
        {
          "output_type": "execute_result",
          "data": {
            "text/plain": [
              "0.038891806895635574"
            ]
          },
          "metadata": {},
          "execution_count": 15
        }
      ],
      "source": [
        "stats.f.sf(F, m,n)"
      ]
    },
    {
      "cell_type": "markdown",
      "metadata": {
        "id": "4uEXYpX96tm1"
      },
      "source": [
        "飼料の効果の$p$値が0.05(有意水準5%)以下なので，棄却域に入っている．よって，帰無仮説は棄却された．飼料の効果があったことが（有意水準5%で）確かめられたことになる．\n",
        "\n",
        "次に，`spipy` ライブラリを使って分散分析を行う．データはあらかじめCSVに入れておく．"
      ]
    },
    {
      "cell_type": "code",
      "execution_count": null,
      "metadata": {
        "colab": {
          "base_uri": "https://localhost:8080/",
          "height": 1000
        },
        "id": "zQvC3Hag6tm1",
        "outputId": "daa1c8d5-d7aa-4378-8b1d-ac5f89da88c5"
      },
      "outputs": [
        {
          "output_type": "execute_result",
          "data": {
            "text/plain": [
              "    Unnamed: 0  weight feed\n",
              "0            1    8.40    A\n",
              "1            2    4.44    A\n",
              "2            3    7.71    A\n",
              "3            4    7.23    A\n",
              "4            5    3.57    A\n",
              "5            6    3.53    A\n",
              "6            7    3.77    A\n",
              "7            8    7.31    A\n",
              "8            9    6.79    B\n",
              "9           10    5.74    B\n",
              "10          11    5.02    B\n",
              "11          12    6.71    B\n",
              "12          13    8.57    B\n",
              "13          14    8.49    B\n",
              "14          15    7.80    B\n",
              "15          16    5.29    B\n",
              "16          17    5.79    C\n",
              "17          18    8.65    C\n",
              "18          19   10.38    C\n",
              "19          20    6.25    C\n",
              "20          21    8.22    C\n",
              "21          22    7.15    C\n",
              "22          23    9.32    C\n",
              "23          24    5.62    C\n",
              "24          25    7.30    D\n",
              "25          26    9.20    D\n",
              "26          27    7.71    D\n",
              "27          28    8.14    D\n",
              "28          29    7.14    D\n",
              "29          30   11.35    D\n",
              "30          31    6.77    D\n",
              "31          32    7.97    D"
            ],
            "text/html": [
              "\n",
              "  <div id=\"df-29fe1144-6cf7-4d51-9a3b-3c537fb8584b\" class=\"colab-df-container\">\n",
              "    <div>\n",
              "<style scoped>\n",
              "    .dataframe tbody tr th:only-of-type {\n",
              "        vertical-align: middle;\n",
              "    }\n",
              "\n",
              "    .dataframe tbody tr th {\n",
              "        vertical-align: top;\n",
              "    }\n",
              "\n",
              "    .dataframe thead th {\n",
              "        text-align: right;\n",
              "    }\n",
              "</style>\n",
              "<table border=\"1\" class=\"dataframe\">\n",
              "  <thead>\n",
              "    <tr style=\"text-align: right;\">\n",
              "      <th></th>\n",
              "      <th>Unnamed: 0</th>\n",
              "      <th>weight</th>\n",
              "      <th>feed</th>\n",
              "    </tr>\n",
              "  </thead>\n",
              "  <tbody>\n",
              "    <tr>\n",
              "      <th>0</th>\n",
              "      <td>1</td>\n",
              "      <td>8.40</td>\n",
              "      <td>A</td>\n",
              "    </tr>\n",
              "    <tr>\n",
              "      <th>1</th>\n",
              "      <td>2</td>\n",
              "      <td>4.44</td>\n",
              "      <td>A</td>\n",
              "    </tr>\n",
              "    <tr>\n",
              "      <th>2</th>\n",
              "      <td>3</td>\n",
              "      <td>7.71</td>\n",
              "      <td>A</td>\n",
              "    </tr>\n",
              "    <tr>\n",
              "      <th>3</th>\n",
              "      <td>4</td>\n",
              "      <td>7.23</td>\n",
              "      <td>A</td>\n",
              "    </tr>\n",
              "    <tr>\n",
              "      <th>4</th>\n",
              "      <td>5</td>\n",
              "      <td>3.57</td>\n",
              "      <td>A</td>\n",
              "    </tr>\n",
              "    <tr>\n",
              "      <th>5</th>\n",
              "      <td>6</td>\n",
              "      <td>3.53</td>\n",
              "      <td>A</td>\n",
              "    </tr>\n",
              "    <tr>\n",
              "      <th>6</th>\n",
              "      <td>7</td>\n",
              "      <td>3.77</td>\n",
              "      <td>A</td>\n",
              "    </tr>\n",
              "    <tr>\n",
              "      <th>7</th>\n",
              "      <td>8</td>\n",
              "      <td>7.31</td>\n",
              "      <td>A</td>\n",
              "    </tr>\n",
              "    <tr>\n",
              "      <th>8</th>\n",
              "      <td>9</td>\n",
              "      <td>6.79</td>\n",
              "      <td>B</td>\n",
              "    </tr>\n",
              "    <tr>\n",
              "      <th>9</th>\n",
              "      <td>10</td>\n",
              "      <td>5.74</td>\n",
              "      <td>B</td>\n",
              "    </tr>\n",
              "    <tr>\n",
              "      <th>10</th>\n",
              "      <td>11</td>\n",
              "      <td>5.02</td>\n",
              "      <td>B</td>\n",
              "    </tr>\n",
              "    <tr>\n",
              "      <th>11</th>\n",
              "      <td>12</td>\n",
              "      <td>6.71</td>\n",
              "      <td>B</td>\n",
              "    </tr>\n",
              "    <tr>\n",
              "      <th>12</th>\n",
              "      <td>13</td>\n",
              "      <td>8.57</td>\n",
              "      <td>B</td>\n",
              "    </tr>\n",
              "    <tr>\n",
              "      <th>13</th>\n",
              "      <td>14</td>\n",
              "      <td>8.49</td>\n",
              "      <td>B</td>\n",
              "    </tr>\n",
              "    <tr>\n",
              "      <th>14</th>\n",
              "      <td>15</td>\n",
              "      <td>7.80</td>\n",
              "      <td>B</td>\n",
              "    </tr>\n",
              "    <tr>\n",
              "      <th>15</th>\n",
              "      <td>16</td>\n",
              "      <td>5.29</td>\n",
              "      <td>B</td>\n",
              "    </tr>\n",
              "    <tr>\n",
              "      <th>16</th>\n",
              "      <td>17</td>\n",
              "      <td>5.79</td>\n",
              "      <td>C</td>\n",
              "    </tr>\n",
              "    <tr>\n",
              "      <th>17</th>\n",
              "      <td>18</td>\n",
              "      <td>8.65</td>\n",
              "      <td>C</td>\n",
              "    </tr>\n",
              "    <tr>\n",
              "      <th>18</th>\n",
              "      <td>19</td>\n",
              "      <td>10.38</td>\n",
              "      <td>C</td>\n",
              "    </tr>\n",
              "    <tr>\n",
              "      <th>19</th>\n",
              "      <td>20</td>\n",
              "      <td>6.25</td>\n",
              "      <td>C</td>\n",
              "    </tr>\n",
              "    <tr>\n",
              "      <th>20</th>\n",
              "      <td>21</td>\n",
              "      <td>8.22</td>\n",
              "      <td>C</td>\n",
              "    </tr>\n",
              "    <tr>\n",
              "      <th>21</th>\n",
              "      <td>22</td>\n",
              "      <td>7.15</td>\n",
              "      <td>C</td>\n",
              "    </tr>\n",
              "    <tr>\n",
              "      <th>22</th>\n",
              "      <td>23</td>\n",
              "      <td>9.32</td>\n",
              "      <td>C</td>\n",
              "    </tr>\n",
              "    <tr>\n",
              "      <th>23</th>\n",
              "      <td>24</td>\n",
              "      <td>5.62</td>\n",
              "      <td>C</td>\n",
              "    </tr>\n",
              "    <tr>\n",
              "      <th>24</th>\n",
              "      <td>25</td>\n",
              "      <td>7.30</td>\n",
              "      <td>D</td>\n",
              "    </tr>\n",
              "    <tr>\n",
              "      <th>25</th>\n",
              "      <td>26</td>\n",
              "      <td>9.20</td>\n",
              "      <td>D</td>\n",
              "    </tr>\n",
              "    <tr>\n",
              "      <th>26</th>\n",
              "      <td>27</td>\n",
              "      <td>7.71</td>\n",
              "      <td>D</td>\n",
              "    </tr>\n",
              "    <tr>\n",
              "      <th>27</th>\n",
              "      <td>28</td>\n",
              "      <td>8.14</td>\n",
              "      <td>D</td>\n",
              "    </tr>\n",
              "    <tr>\n",
              "      <th>28</th>\n",
              "      <td>29</td>\n",
              "      <td>7.14</td>\n",
              "      <td>D</td>\n",
              "    </tr>\n",
              "    <tr>\n",
              "      <th>29</th>\n",
              "      <td>30</td>\n",
              "      <td>11.35</td>\n",
              "      <td>D</td>\n",
              "    </tr>\n",
              "    <tr>\n",
              "      <th>30</th>\n",
              "      <td>31</td>\n",
              "      <td>6.77</td>\n",
              "      <td>D</td>\n",
              "    </tr>\n",
              "    <tr>\n",
              "      <th>31</th>\n",
              "      <td>32</td>\n",
              "      <td>7.97</td>\n",
              "      <td>D</td>\n",
              "    </tr>\n",
              "  </tbody>\n",
              "</table>\n",
              "</div>\n",
              "    <div class=\"colab-df-buttons\">\n",
              "\n",
              "  <div class=\"colab-df-container\">\n",
              "    <button class=\"colab-df-convert\" onclick=\"convertToInteractive('df-29fe1144-6cf7-4d51-9a3b-3c537fb8584b')\"\n",
              "            title=\"Convert this dataframe to an interactive table.\"\n",
              "            style=\"display:none;\">\n",
              "\n",
              "  <svg xmlns=\"http://www.w3.org/2000/svg\" height=\"24px\" viewBox=\"0 -960 960 960\">\n",
              "    <path d=\"M120-120v-720h720v720H120Zm60-500h600v-160H180v160Zm220 220h160v-160H400v160Zm0 220h160v-160H400v160ZM180-400h160v-160H180v160Zm440 0h160v-160H620v160ZM180-180h160v-160H180v160Zm440 0h160v-160H620v160Z\"/>\n",
              "  </svg>\n",
              "    </button>\n",
              "\n",
              "  <style>\n",
              "    .colab-df-container {\n",
              "      display:flex;\n",
              "      gap: 12px;\n",
              "    }\n",
              "\n",
              "    .colab-df-convert {\n",
              "      background-color: #E8F0FE;\n",
              "      border: none;\n",
              "      border-radius: 50%;\n",
              "      cursor: pointer;\n",
              "      display: none;\n",
              "      fill: #1967D2;\n",
              "      height: 32px;\n",
              "      padding: 0 0 0 0;\n",
              "      width: 32px;\n",
              "    }\n",
              "\n",
              "    .colab-df-convert:hover {\n",
              "      background-color: #E2EBFA;\n",
              "      box-shadow: 0px 1px 2px rgba(60, 64, 67, 0.3), 0px 1px 3px 1px rgba(60, 64, 67, 0.15);\n",
              "      fill: #174EA6;\n",
              "    }\n",
              "\n",
              "    .colab-df-buttons div {\n",
              "      margin-bottom: 4px;\n",
              "    }\n",
              "\n",
              "    [theme=dark] .colab-df-convert {\n",
              "      background-color: #3B4455;\n",
              "      fill: #D2E3FC;\n",
              "    }\n",
              "\n",
              "    [theme=dark] .colab-df-convert:hover {\n",
              "      background-color: #434B5C;\n",
              "      box-shadow: 0px 1px 3px 1px rgba(0, 0, 0, 0.15);\n",
              "      filter: drop-shadow(0px 1px 2px rgba(0, 0, 0, 0.3));\n",
              "      fill: #FFFFFF;\n",
              "    }\n",
              "  </style>\n",
              "\n",
              "    <script>\n",
              "      const buttonEl =\n",
              "        document.querySelector('#df-29fe1144-6cf7-4d51-9a3b-3c537fb8584b button.colab-df-convert');\n",
              "      buttonEl.style.display =\n",
              "        google.colab.kernel.accessAllowed ? 'block' : 'none';\n",
              "\n",
              "      async function convertToInteractive(key) {\n",
              "        const element = document.querySelector('#df-29fe1144-6cf7-4d51-9a3b-3c537fb8584b');\n",
              "        const dataTable =\n",
              "          await google.colab.kernel.invokeFunction('convertToInteractive',\n",
              "                                                    [key], {});\n",
              "        if (!dataTable) return;\n",
              "\n",
              "        const docLinkHtml = 'Like what you see? Visit the ' +\n",
              "          '<a target=\"_blank\" href=https://colab.research.google.com/notebooks/data_table.ipynb>data table notebook</a>'\n",
              "          + ' to learn more about interactive tables.';\n",
              "        element.innerHTML = '';\n",
              "        dataTable['output_type'] = 'display_data';\n",
              "        await google.colab.output.renderOutput(dataTable, element);\n",
              "        const docLink = document.createElement('div');\n",
              "        docLink.innerHTML = docLinkHtml;\n",
              "        element.appendChild(docLink);\n",
              "      }\n",
              "    </script>\n",
              "  </div>\n",
              "\n",
              "\n",
              "<div id=\"df-fa59b533-0e72-4cd5-a7cf-c3477c880f77\">\n",
              "  <button class=\"colab-df-quickchart\" onclick=\"quickchart('df-fa59b533-0e72-4cd5-a7cf-c3477c880f77')\"\n",
              "            title=\"Suggest charts\"\n",
              "            style=\"display:none;\">\n",
              "\n",
              "<svg xmlns=\"http://www.w3.org/2000/svg\" height=\"24px\"viewBox=\"0 0 24 24\"\n",
              "     width=\"24px\">\n",
              "    <g>\n",
              "        <path d=\"M19 3H5c-1.1 0-2 .9-2 2v14c0 1.1.9 2 2 2h14c1.1 0 2-.9 2-2V5c0-1.1-.9-2-2-2zM9 17H7v-7h2v7zm4 0h-2V7h2v10zm4 0h-2v-4h2v4z\"/>\n",
              "    </g>\n",
              "</svg>\n",
              "  </button>\n",
              "\n",
              "<style>\n",
              "  .colab-df-quickchart {\n",
              "      --bg-color: #E8F0FE;\n",
              "      --fill-color: #1967D2;\n",
              "      --hover-bg-color: #E2EBFA;\n",
              "      --hover-fill-color: #174EA6;\n",
              "      --disabled-fill-color: #AAA;\n",
              "      --disabled-bg-color: #DDD;\n",
              "  }\n",
              "\n",
              "  [theme=dark] .colab-df-quickchart {\n",
              "      --bg-color: #3B4455;\n",
              "      --fill-color: #D2E3FC;\n",
              "      --hover-bg-color: #434B5C;\n",
              "      --hover-fill-color: #FFFFFF;\n",
              "      --disabled-bg-color: #3B4455;\n",
              "      --disabled-fill-color: #666;\n",
              "  }\n",
              "\n",
              "  .colab-df-quickchart {\n",
              "    background-color: var(--bg-color);\n",
              "    border: none;\n",
              "    border-radius: 50%;\n",
              "    cursor: pointer;\n",
              "    display: none;\n",
              "    fill: var(--fill-color);\n",
              "    height: 32px;\n",
              "    padding: 0;\n",
              "    width: 32px;\n",
              "  }\n",
              "\n",
              "  .colab-df-quickchart:hover {\n",
              "    background-color: var(--hover-bg-color);\n",
              "    box-shadow: 0 1px 2px rgba(60, 64, 67, 0.3), 0 1px 3px 1px rgba(60, 64, 67, 0.15);\n",
              "    fill: var(--button-hover-fill-color);\n",
              "  }\n",
              "\n",
              "  .colab-df-quickchart-complete:disabled,\n",
              "  .colab-df-quickchart-complete:disabled:hover {\n",
              "    background-color: var(--disabled-bg-color);\n",
              "    fill: var(--disabled-fill-color);\n",
              "    box-shadow: none;\n",
              "  }\n",
              "\n",
              "  .colab-df-spinner {\n",
              "    border: 2px solid var(--fill-color);\n",
              "    border-color: transparent;\n",
              "    border-bottom-color: var(--fill-color);\n",
              "    animation:\n",
              "      spin 1s steps(1) infinite;\n",
              "  }\n",
              "\n",
              "  @keyframes spin {\n",
              "    0% {\n",
              "      border-color: transparent;\n",
              "      border-bottom-color: var(--fill-color);\n",
              "      border-left-color: var(--fill-color);\n",
              "    }\n",
              "    20% {\n",
              "      border-color: transparent;\n",
              "      border-left-color: var(--fill-color);\n",
              "      border-top-color: var(--fill-color);\n",
              "    }\n",
              "    30% {\n",
              "      border-color: transparent;\n",
              "      border-left-color: var(--fill-color);\n",
              "      border-top-color: var(--fill-color);\n",
              "      border-right-color: var(--fill-color);\n",
              "    }\n",
              "    40% {\n",
              "      border-color: transparent;\n",
              "      border-right-color: var(--fill-color);\n",
              "      border-top-color: var(--fill-color);\n",
              "    }\n",
              "    60% {\n",
              "      border-color: transparent;\n",
              "      border-right-color: var(--fill-color);\n",
              "    }\n",
              "    80% {\n",
              "      border-color: transparent;\n",
              "      border-right-color: var(--fill-color);\n",
              "      border-bottom-color: var(--fill-color);\n",
              "    }\n",
              "    90% {\n",
              "      border-color: transparent;\n",
              "      border-bottom-color: var(--fill-color);\n",
              "    }\n",
              "  }\n",
              "</style>\n",
              "\n",
              "  <script>\n",
              "    async function quickchart(key) {\n",
              "      const quickchartButtonEl =\n",
              "        document.querySelector('#' + key + ' button');\n",
              "      quickchartButtonEl.disabled = true;  // To prevent multiple clicks.\n",
              "      quickchartButtonEl.classList.add('colab-df-spinner');\n",
              "      try {\n",
              "        const charts = await google.colab.kernel.invokeFunction(\n",
              "            'suggestCharts', [key], {});\n",
              "      } catch (error) {\n",
              "        console.error('Error during call to suggestCharts:', error);\n",
              "      }\n",
              "      quickchartButtonEl.classList.remove('colab-df-spinner');\n",
              "      quickchartButtonEl.classList.add('colab-df-quickchart-complete');\n",
              "    }\n",
              "    (() => {\n",
              "      let quickchartButtonEl =\n",
              "        document.querySelector('#df-fa59b533-0e72-4cd5-a7cf-c3477c880f77 button');\n",
              "      quickchartButtonEl.style.display =\n",
              "        google.colab.kernel.accessAllowed ? 'block' : 'none';\n",
              "    })();\n",
              "  </script>\n",
              "</div>\n",
              "    </div>\n",
              "  </div>\n"
            ]
          },
          "metadata": {},
          "execution_count": 16
        }
      ],
      "source": [
        "import pandas as pd\n",
        "from scipy import stats\n",
        "url = \"oneway_anova_example1.csv\"\n",
        "data = pd.read_csv(url)\n",
        "data"
      ]
    },
    {
      "cell_type": "code",
      "execution_count": null,
      "metadata": {
        "colab": {
          "base_uri": "https://localhost:8080/"
        },
        "id": "RxRglIyQ6tm1",
        "outputId": "5983d5dc-502e-4184-9fb9-86ea2030e65d"
      },
      "outputs": [
        {
          "output_type": "execute_result",
          "data": {
            "text/plain": [
              "{'A': 0    8.40\n",
              " 1    4.44\n",
              " 2    7.71\n",
              " 3    7.23\n",
              " 4    3.57\n",
              " 5    3.53\n",
              " 6    3.77\n",
              " 7    7.31\n",
              " Name: weight, dtype: float64,\n",
              " 'B': 8     6.79\n",
              " 9     5.74\n",
              " 10    5.02\n",
              " 11    6.71\n",
              " 12    8.57\n",
              " 13    8.49\n",
              " 14    7.80\n",
              " 15    5.29\n",
              " Name: weight, dtype: float64,\n",
              " 'C': 16     5.79\n",
              " 17     8.65\n",
              " 18    10.38\n",
              " 19     6.25\n",
              " 20     8.22\n",
              " 21     7.15\n",
              " 22     9.32\n",
              " 23     5.62\n",
              " Name: weight, dtype: float64,\n",
              " 'D': 24     7.30\n",
              " 25     9.20\n",
              " 26     7.71\n",
              " 27     8.14\n",
              " 28     7.14\n",
              " 29    11.35\n",
              " 30     6.77\n",
              " 31     7.97\n",
              " Name: weight, dtype: float64}"
            ]
          },
          "metadata": {},
          "execution_count": 17
        }
      ],
      "source": [
        "# CSVデータは縦持ちなので、横持ちのデータに変換する\n",
        "ctrl = data['weight'][data.feed == 'A']\n",
        "grps = pd.unique(data.feed.values)\n",
        "d_data = {grp:data['weight'][data.feed == grp] for grp in grps}\n",
        "d_data"
      ]
    },
    {
      "cell_type": "code",
      "execution_count": null,
      "metadata": {
        "colab": {
          "base_uri": "https://localhost:8080/"
        },
        "id": "FTBLmIBC6tm1",
        "outputId": "99449662-6ef8-4374-a944-3b1a8640339a"
      },
      "outputs": [
        {
          "output_type": "stream",
          "name": "stdout",
          "text": [
            "F_onewayResult(statistic=3.190082043368759, pvalue=0.03889180689563567)\n"
          ]
        }
      ],
      "source": [
        "# stats.f_onewayを実行して結果を出力する\n",
        "result = stats.f_oneway(d_data['A'], d_data['B'], d_data['C'], d_data['D'])\n",
        "print(result)"
      ]
    },
    {
      "cell_type": "markdown",
      "metadata": {
        "id": "pTKrSqBo6tm1"
      },
      "source": [
        "`statistic` は、$F$値で、`pvalue` は $p$値です。\n",
        "\n",
        "有意水準5％とすると、0.0389 <= 0.05 なので、集団間の平均値に差異があることが言えそうです。"
      ]
    },
    {
      "cell_type": "markdown",
      "metadata": {
        "id": "6FMCQMoQ6tm1"
      },
      "source": [
        "## <A NAME=\"RS06:nonpaired\">（繰り返しのない）一元配置分散分析</A>\n",
        "\n",
        "例題：以下の表は『教え方』ごとにみた統計学テストの成績である。この表から、４通りの教え方(A,B,C,D)によって統計学テストの母平均に差があるだろうか？\n",
        "<table border=4 width=400 align=center>\n",
        "  <tr bgcolor=\"#cccccc\">\n",
        "    <th width=25%>A</th>\n",
        "    <th width=25%>B</th>\n",
        "    <th width=25%>C</th>\n",
        "    <th width=25%>D</th>\n",
        "  </tr>\n",
        "  <tr>\n",
        "\t<td align=\"right\" cellpadding=10>15 </td>\n",
        "\t<td align=\"right\" cellpadding=10> 13</td>\n",
        "\t<td align=\"right\" cellpadding=10>10 </td>\n",
        "\t<td align=\"right\" cellpadding=10> 10</td>\n",
        "  </tr>\n",
        "  <tr>\n",
        "\t<td align=\"right\" cellpadding=10> 9</td>\n",
        "\t<td align=\"right\" cellpadding=10>8 </td>\n",
        "\t<td align=\"right\" cellpadding=10>6 </td>\n",
        "\t<td align=\"right\" cellpadding=10> 7</td>\n",
        "  </tr>  <tr>\n",
        "\t<td align=\"right\" cellpadding=10>18 </td>\n",
        "\t<td align=\"right\" cellpadding=10> 8</td>\n",
        "\t<td align=\"right\" cellpadding=10> 11</td>\n",
        "\t<td align=\"right\" cellpadding=10> 3</td>\n",
        "  </tr>  <tr>\n",
        "\t<td align=\"right\" cellpadding=10> 14</td>\n",
        "\t<td align=\"right\" cellpadding=10> 12</td>\n",
        "\t<td align=\"right\" cellpadding=10> 7</td>\n",
        "\t<td align=\"right\" cellpadding=10> 5</td>\n",
        "  </tr>  <tr>\n",
        "\t<td align=\"right\" cellpadding=10>18 </td>\n",
        "\t<td align=\"right\" cellpadding=10> 7</td>\n",
        "\t<td align=\"right\" cellpadding=10> 12</td>\n",
        "\t<td align=\"right\" cellpadding=10>7 </td>\n",
        "  </tr>\n",
        "</table>\n",
        "<BR>\n",
        "この標本が母平均の等しい4群から抽出される可能性が高いかどうかを検討するために分散分析を行う。ここで『教え方』が<font class=\"word\">要因</font>、A, B, C, Dの4つがその<font class=\"word\">水準</font>となる.\n",
        "<P>\n",
        "Pythonを用いた計算方法の紹介\n",
        "<OL class=\"other\">\n",
        " <LI> 帰無仮説と対立仮説の設定<BR>\n",
        "　 \t・帰無仮説 H<sub>0</sub>：4群の母平均は等しい<BR>\n",
        "　 \t・対立仮説 H<sub>1</sub>：4群の母平均は等しくない<BR>\n",
        "注意: 4群のうち1つだけ母平均が異なるような場合でも対立仮説は成立\n",
        " <LI>検定統計量の選択 ---\n",
        "次のFを検定統計量とする: <IMG  class=\"exp\" SRC=\"http://whitewell.sakura.ne.jp/PythonProbStat/Figs/F.png\"  width=\"35%\" hspace=\"1\" align=\"center\" />\n",
        "\n",
        "これは帰無仮説（すべての群の母平均が等しいとき）のもとで、F分布に従う\n",
        "\n",
        "<font class=\"rule\">F分布の自由度は２種類：分子と分母の自由度</font><BR>\n",
        "F分布の描画: st.f.pdf(x,分子の自由度,分母の自由度) 関数を使用<BR>\n",
        "```\n",
        "plt.plot(x,st.f.pdf(x, 3, 16))\n",
        "```\n",
        "\n",
        "<LI> 有意水準$\\alpha$の決定: ここでは有意水準は5%、つまり$\\alpha=0.05$とする\n",
        "<BR>\n",
        "F分布のグラフから明らかなように、F分布は正値を取る⇒　<font class=\"rule\">分散分析は常に片側検定</font>\n",
        " <LI>検定統計量の実現値を求める:  st.f_oneway関数\n",
        "</OL>"
      ]
    },
    {
      "cell_type": "code",
      "execution_count": null,
      "metadata": {
        "colab": {
          "base_uri": "https://localhost:8080/",
          "height": 449
        },
        "id": "w2bqGlM96tm1",
        "outputId": "59b66c7f-5521-4f2a-9cc8-e60518528322"
      },
      "outputs": [
        {
          "output_type": "display_data",
          "data": {
            "text/plain": [
              "<Figure size 640x480 with 1 Axes>"
            ],
            "image/png": "[encoded data removed]"
          },
          "metadata": {}
        }
      ],
      "source": [
        "%matplotlib inline\n",
        "import matplotlib.pyplot as plt\n",
        "import numpy as np\n",
        "import scipy.stats as st\n",
        "x=np.linspace(0,8,1000)\n",
        "plt.plot(x,st.f.pdf(x,3,16))\n",
        "plt.xlabel('x')\n",
        "plt.ylabel('st.f.pdf(x,3,16)')\n",
        "plt.grid()"
      ]
    },
    {
      "cell_type": "code",
      "execution_count": null,
      "metadata": {
        "colab": {
          "base_uri": "https://localhost:8080/"
        },
        "id": "JrhFPkOe6tm2",
        "outputId": "c4c20ae5-520a-456f-f717-fffe854c2be7"
      },
      "outputs": [
        {
          "output_type": "stream",
          "name": "stdout",
          "text": [
            "Help on function f_oneway in module scipy.stats._stats_py:\n",
            "\n",
            "f_oneway(*samples, axis=0)\n",
            "    Perform one-way ANOVA.\n",
            "    \n",
            "    The one-way ANOVA tests the null hypothesis that two or more groups have\n",
            "    the same population mean.  The test is applied to samples from two or\n",
            "    more groups, possibly with differing sizes.\n",
            "    \n",
            "    Parameters\n",
            "    ----------\n",
            "    sample1, sample2, ... : array_like\n",
            "        The sample measurements for each group.  There must be at least\n",
            "        two arguments.  If the arrays are multidimensional, then all the\n",
            "        dimensions of the array must be the same except for `axis`.\n",
            "    axis : int, optional\n",
            "        Axis of the input arrays along which the test is applied.\n",
            "        Default is 0.\n",
            "    \n",
            "    Returns\n",
            "    -------\n",
            "    statistic : float\n",
            "        The computed F statistic of the test.\n",
            "    pvalue : float\n",
            "        The associated p-value from the F distribution.\n",
            "    \n",
            "    Warns\n",
            "    -----\n",
            "    `~scipy.stats.ConstantInputWarning`\n",
            "        Raised if all values within each of the input arrays are identical.\n",
            "        In this case the F statistic is either infinite or isn't defined,\n",
            "        so ``np.inf`` or ``np.nan`` is returned.\n",
            "    \n",
            "    `~scipy.stats.DegenerateDataWarning`\n",
            "        Raised if the length of any input array is 0, or if all the input\n",
            "        arrays have length 1.  ``np.nan`` is returned for the F statistic\n",
            "        and the p-value in these cases.\n",
            "    \n",
            "    Notes\n",
            "    -----\n",
            "    The ANOVA test has important assumptions that must be satisfied in order\n",
            "    for the associated p-value to be valid.\n",
            "    \n",
            "    1. The samples are independent.\n",
            "    2. Each sample is from a normally distributed population.\n",
            "    3. The population standard deviations of the groups are all equal.  This\n",
            "       property is known as homoscedasticity.\n",
            "    \n",
            "    If these assumptions are not true for a given set of data, it may still\n",
            "    be possible to use the Kruskal-Wallis H-test (`scipy.stats.kruskal`) or\n",
            "    the Alexander-Govern test (`scipy.stats.alexandergovern`) although with\n",
            "    some loss of power.\n",
            "    \n",
            "    The length of each group must be at least one, and there must be at\n",
            "    least one group with length greater than one.  If these conditions\n",
            "    are not satisfied, a warning is generated and (``np.nan``, ``np.nan``)\n",
            "    is returned.\n",
            "    \n",
            "    If all values in each group are identical, and there exist at least two\n",
            "    groups with different values, the function generates a warning and\n",
            "    returns (``np.inf``, 0).\n",
            "    \n",
            "    If all values in all groups are the same, function generates a warning\n",
            "    and returns (``np.nan``, ``np.nan``).\n",
            "    \n",
            "    The algorithm is from Heiman [2]_, pp.394-7.\n",
            "    \n",
            "    References\n",
            "    ----------\n",
            "    .. [1] R. Lowry, \"Concepts and Applications of Inferential Statistics\",\n",
            "           Chapter 14, 2014, http://vassarstats.net/textbook/\n",
            "    \n",
            "    .. [2] G.W. Heiman, \"Understanding research methods and statistics: An\n",
            "           integrated introduction for psychology\", Houghton, Mifflin and\n",
            "           Company, 2001.\n",
            "    \n",
            "    .. [3] G.H. McDonald, \"Handbook of Biological Statistics\", One-way ANOVA.\n",
            "           http://www.biostathandbook.com/onewayanova.html\n",
            "    \n",
            "    Examples\n",
            "    --------\n",
            "    >>> import numpy as np\n",
            "    >>> from scipy.stats import f_oneway\n",
            "    \n",
            "    Here are some data [3]_ on a shell measurement (the length of the anterior\n",
            "    adductor muscle scar, standardized by dividing by length) in the mussel\n",
            "    Mytilus trossulus from five locations: Tillamook, Oregon; Newport, Oregon;\n",
            "    Petersburg, Alaska; Magadan, Russia; and Tvarminne, Finland, taken from a\n",
            "    much larger data set used in McDonald et al. (1991).\n",
            "    \n",
            "    >>> tillamook = [0.0571, 0.0813, 0.0831, 0.0976, 0.0817, 0.0859, 0.0735,\n",
            "    ...              0.0659, 0.0923, 0.0836]\n",
            "    >>> newport = [0.0873, 0.0662, 0.0672, 0.0819, 0.0749, 0.0649, 0.0835,\n",
            "    ...            0.0725]\n",
            "    >>> petersburg = [0.0974, 0.1352, 0.0817, 0.1016, 0.0968, 0.1064, 0.105]\n",
            "    >>> magadan = [0.1033, 0.0915, 0.0781, 0.0685, 0.0677, 0.0697, 0.0764,\n",
            "    ...            0.0689]\n",
            "    >>> tvarminne = [0.0703, 0.1026, 0.0956, 0.0973, 0.1039, 0.1045]\n",
            "    >>> f_oneway(tillamook, newport, petersburg, magadan, tvarminne)\n",
            "    F_onewayResult(statistic=7.121019471642447, pvalue=0.0002812242314534544)\n",
            "    \n",
            "    `f_oneway` accepts multidimensional input arrays.  When the inputs\n",
            "    are multidimensional and `axis` is not given, the test is performed\n",
            "    along the first axis of the input arrays.  For the following data, the\n",
            "    test is performed three times, once for each column.\n",
            "    \n",
            "    >>> a = np.array([[9.87, 9.03, 6.81],\n",
            "    ...               [7.18, 8.35, 7.00],\n",
            "    ...               [8.39, 7.58, 7.68],\n",
            "    ...               [7.45, 6.33, 9.35],\n",
            "    ...               [6.41, 7.10, 9.33],\n",
            "    ...               [8.00, 8.24, 8.44]])\n",
            "    >>> b = np.array([[6.35, 7.30, 7.16],\n",
            "    ...               [6.65, 6.68, 7.63],\n",
            "    ...               [5.72, 7.73, 6.72],\n",
            "    ...               [7.01, 9.19, 7.41],\n",
            "    ...               [7.75, 7.87, 8.30],\n",
            "    ...               [6.90, 7.97, 6.97]])\n",
            "    >>> c = np.array([[3.31, 8.77, 1.01],\n",
            "    ...               [8.25, 3.24, 3.62],\n",
            "    ...               [6.32, 8.81, 5.19],\n",
            "    ...               [7.48, 8.83, 8.91],\n",
            "    ...               [8.59, 6.01, 6.07],\n",
            "    ...               [3.07, 9.72, 7.48]])\n",
            "    >>> F, p = f_oneway(a, b, c)\n",
            "    >>> F\n",
            "    array([1.75676344, 0.03701228, 3.76439349])\n",
            "    >>> p\n",
            "    array([0.20630784, 0.96375203, 0.04733157])\n",
            "\n"
          ]
        }
      ],
      "source": [
        "help(st.f_oneway)"
      ]
    },
    {
      "cell_type": "markdown",
      "metadata": {
        "id": "TU1lkl9Z6tm2"
      },
      "source": [
        "---\n",
        "Pythonを用いた計算:"
      ]
    },
    {
      "cell_type": "code",
      "execution_count": null,
      "metadata": {
        "id": "S6K1OUs46tm2"
      },
      "outputs": [],
      "source": [
        "import numpy as np\n",
        "# 4つの指導法に違いがあるか?\n",
        "A = np.array([15,9,18,14,18])\n",
        "B = np.array([13,8,8,12,7])\n",
        "C = np.array([10,6,11,7,12])\n",
        "D = np.array([10,7,3,5,7])"
      ]
    },
    {
      "cell_type": "code",
      "execution_count": null,
      "metadata": {
        "colab": {
          "base_uri": "https://localhost:8080/"
        },
        "id": "kfgk7bge6tm2",
        "outputId": "f82784f0-3e4e-41f2-d66e-2b9b3e194c6d"
      },
      "outputs": [
        {
          "output_type": "stream",
          "name": "stdout",
          "text": [
            "F=7.111111, p-value = 0.002988\n"
          ]
        }
      ],
      "source": [
        "f, p = st.f_oneway(A,B,C,D)\n",
        "print(\"F=%f, p-value = %f\"%(f,p))"
      ]
    },
    {
      "cell_type": "markdown",
      "metadata": {
        "id": "bfg-hRzj6tm2"
      },
      "source": [
        "F値は7.11、p値が0.003であるから、帰無仮説が棄却される。検定の結果、つまりA,B,C,Dの間に有意な平均値差が見られたことが導ける。\n",
        "\n",
        "注意: 実際には分散分析を適用するには、データが独立で、それぞれ正規分布に従うものであり、分散はみな等しい(分散の等質性）という条件がある。分散の等質性の検定にはBartlett検定を用いる。\n"
      ]
    },
    {
      "cell_type": "code",
      "execution_count": null,
      "metadata": {
        "colab": {
          "base_uri": "https://localhost:8080/"
        },
        "id": "t3hj6jSR6tm2",
        "outputId": "5fe943ec-dba5-4338-ceda-7878f9678012"
      },
      "outputs": [
        {
          "output_type": "execute_result",
          "data": {
            "text/plain": [
              "BartlettResult(statistic=0.704094908747911, pvalue=0.8722403650937011)"
            ]
          },
          "metadata": {},
          "execution_count": 23
        }
      ],
      "source": [
        "st.bartlett(A,B,C,D) # Bartlett検定"
      ]
    },
    {
      "cell_type": "markdown",
      "metadata": {
        "id": "eC934Gn26tm4"
      },
      "source": [
        "---\n",
        "## 多重比較(Tukeyの方法)\n",
        "\n",
        "一元配置分散分析の結果「帰無仮説が棄却」されても、これだけでは「群の母平均が等しくない」ことしかわからない。\n",
        "<BR>\n",
        "具体的に「どの群とどの群の間に差があるか」を知りたいことが多い。それには<font class=\"word\">多重比較</font>を行う。ここでは<font class=\"word\">Tukey（テューキー）の方法</font>を紹介する。\n",
        "\n",
        "仮定: 各群のデータ数（サンプルサイズ)nが等しく、各群の母分散も等しい(分散の等質性)<BR>\n",
        "検定統計量q: <IMG  class=\"exp\" SRC=\"http://whitewell.sakura.ne.jp/PythonProbStat/Figs/qValue.png\"  width=\"35%\" hspace=\"1\" align=\"center\" />\n",
        "<BR>\n",
        "Pythonでは次のようにstatsmodels.stats.multicompモジュールの pairwise_tukeyhsd (Tukey's <Q>Honest Significant Difference</Q>)関数を用いれば、いろいろな指導方法による平均値差の多重比較が可能となる"
      ]
    },
    {
      "cell_type": "code",
      "execution_count": null,
      "metadata": {
        "colab": {
          "base_uri": "https://localhost:8080/"
        },
        "id": "uhpmpvmT6tm4",
        "outputId": "43cd8144-62ef-468a-ac1a-ca30a5a32900"
      },
      "outputs": [
        {
          "output_type": "stream",
          "name": "stdout",
          "text": [
            "Help on function pairwise_tukeyhsd in module statsmodels.stats.multicomp:\n",
            "\n",
            "pairwise_tukeyhsd(endog, groups, alpha=0.05)\n",
            "    Calculate all pairwise comparisons with TukeyHSD confidence intervals\n",
            "    \n",
            "    Parameters\n",
            "    ----------\n",
            "    endog : ndarray, float, 1d\n",
            "        response variable\n",
            "    groups : ndarray, 1d\n",
            "        array with groups, can be string or integers\n",
            "    alpha : float\n",
            "        significance level for the test\n",
            "    \n",
            "    Returns\n",
            "    -------\n",
            "    results : TukeyHSDResults instance\n",
            "        A results class containing relevant data and some post-hoc\n",
            "        calculations, including adjusted p-value\n",
            "    \n",
            "    Notes\n",
            "    -----\n",
            "    This is just a wrapper around tukeyhsd method of MultiComparison\n",
            "    \n",
            "    See Also\n",
            "    --------\n",
            "    MultiComparison\n",
            "    tukeyhsd\n",
            "    statsmodels.sandbox.stats.multicomp.TukeyHSDResults\n",
            "\n"
          ]
        }
      ],
      "source": [
        "from statsmodels.stats.multicomp import pairwise_tukeyhsd\n",
        "help(pairwise_tukeyhsd)"
      ]
    },
    {
      "cell_type": "code",
      "execution_count": null,
      "metadata": {
        "scrolled": true,
        "colab": {
          "base_uri": "https://localhost:8080/"
        },
        "id": "Vgc-jDBa6tm4",
        "outputId": "40f024fd-9e05-4e24-c577-9cfd21ec8438"
      },
      "outputs": [
        {
          "output_type": "stream",
          "name": "stdout",
          "text": [
            " Multiple Comparison of Means - Tukey HSD, FWER=0.05 \n",
            "=====================================================\n",
            "group1 group2 meandiff p-adj   lower    upper  reject\n",
            "-----------------------------------------------------\n",
            "     A      B     -5.2 0.0562 -10.5141  0.1141  False\n",
            "     A      C     -5.6 0.0371 -10.9141 -0.2859   True\n",
            "     A      D     -8.4 0.0018 -13.7141 -3.0859   True\n",
            "     B      C     -0.4 0.9963  -5.7141  4.9141  False\n",
            "     B      D     -3.2 0.3447  -8.5141  2.1141  False\n",
            "     C      D     -2.8 0.4561  -8.1141  2.5141  False\n",
            "-----------------------------------------------------\n"
          ]
        }
      ],
      "source": [
        "from statsmodels.stats.multicomp import pairwise_tukeyhsd\n",
        "import numpy as np\n",
        "# 4つの指導法に違いがあるか?\n",
        "A = np.array([15,9,18,14,18])\n",
        "B = np.array([13,8,8,12,7])\n",
        "C = np.array([10,6,11,7,12])\n",
        "D = np.array([10,7,3,5,7])\n",
        "\n",
        "data_arr = np.hstack( (A,B,C,D) ) # すべてのデータを結合\n",
        "# array([15,  9, 18, 14, 18, 13,  8,  8, 12,  7, 10,  6, 11,  7, 12, 10,  7,  3,  5,  7])\n",
        "ind_arr = np.repeat(list('ABCD'),len(A))   # 名称をリスト\n",
        "# array(['A', 'A', 'A', 'A', 'A', 'B', 'B', 'B', 'B', 'B', 'C', 'C', 'C', 'C', 'C', 'D', 'D', 'D', 'D', 'D'])\n",
        "\n",
        "print(pairwise_tukeyhsd(data_arr,ind_arr))   # 結果を出力する"
      ]
    },
    {
      "cell_type": "markdown",
      "metadata": {
        "id": "0YujNoiB6tm4"
      },
      "source": [
        "出力された表においてはp値が0.05以下のものに、reject列で True と記入がある。これに該当するのはAとCの間,およびAとDの間であり、これらには5%水準で有意差があることがわかった。"
      ]
    },
    {
      "cell_type": "code",
      "execution_count": null,
      "metadata": {
        "scrolled": true,
        "colab": {
          "base_uri": "https://localhost:8080/"
        },
        "id": "uGqnGQv26tm4",
        "outputId": "651df2c7-2271-4cc4-ae2a-49a36ec48ef6"
      },
      "outputs": [
        {
          "output_type": "stream",
          "name": "stdout",
          "text": [
            " Multiple Comparison of Means - Tukey HSD, FWER=0.05 \n",
            "=====================================================\n",
            "group1 group2 meandiff p-adj   lower    upper  reject\n",
            "-----------------------------------------------------\n",
            "     A      B     -5.2 0.0562 -10.5141  0.1141  False\n",
            "     A      C     -5.6 0.0371 -10.9141 -0.2859   True\n",
            "     A      D     -8.4 0.0018 -13.7141 -3.0859   True\n",
            "     B      C     -0.4 0.9963  -5.7141  4.9141  False\n",
            "     B      D     -3.2 0.3447  -8.5141  2.1141  False\n",
            "     C      D     -2.8 0.4561  -8.1141  2.5141  False\n",
            "-----------------------------------------------------\n"
          ]
        }
      ],
      "source": [
        "# 参考: 関数にしてみた\n",
        "def tukey_hsd( lst, ind, n ):\n",
        "    from statsmodels.stats.multicomp import pairwise_tukeyhsd\n",
        "    import numpy as np\n",
        "    data_arr = np.hstack( lst )\n",
        "    ind_arr = np.repeat(ind, n)\n",
        "    print(pairwise_tukeyhsd(data_arr,ind_arr))\n",
        "\n",
        "tukey_hsd( (A,B,C,D), list('ABCD') , 5) # 第1引数:データをタプルで, 第2引数:名称のリスト, 第3引数: データの個数"
      ]
    },
    {
      "cell_type": "code",
      "execution_count": null,
      "metadata": {
        "colab": {
          "base_uri": "https://localhost:8080/"
        },
        "id": "5FPp7yct6tm5",
        "outputId": "aac8d1c7-f5eb-4488-bd01-ce29fdbca7e4"
      },
      "outputs": [
        {
          "output_type": "stream",
          "name": "stdout",
          "text": [
            " Multiple Comparison of Means - Tukey HSD, FWER=0.05 \n",
            "=====================================================\n",
            "group1 group2 meandiff p-adj   lower    upper  reject\n",
            "-----------------------------------------------------\n",
            "     A      B -14.4167 0.0007  -22.725 -6.1083   True\n",
            "     A      C  -3.6071 0.5683 -12.4565  5.2422  False\n",
            "     B      C  10.8095 0.0125   2.1927 19.4264   True\n",
            "-----------------------------------------------------\n"
          ]
        }
      ],
      "source": [
        "# 別バージョン：個数がそれぞれ違う場合. 次を参考にした: http://qiita.com/keroplant/items/bb03375c55ca4b2f5943\n",
        "# 関数名も変更\n",
        "A = [100, 96, 80, 92, 101, 99, 89, 93]\n",
        "B = [83, 77, 86, 71, 70, 98, 80, 75, 74]\n",
        "C = [90, 91, 92, 89, 88, 90, 91]\n",
        "\n",
        "def tukey_hsd_2( ind, *args ):\n",
        "    from statsmodels.stats.multicomp import pairwise_tukeyhsd\n",
        "    import numpy as np\n",
        "    data_arr = np.hstack( args )\n",
        "    ind_arr = np.array([])\n",
        "    for x in range(len(args)):\n",
        "      ind_arr = np.append(ind_arr, np.repeat(ind[x], len(args[x])))\n",
        "    print(pairwise_tukeyhsd(data_arr,ind_arr))\n",
        "\n",
        "tukey_hsd_2(list('ABC') , A,B,C) # 第1引数:名称のリスト, 第2引数以降: データ"
      ]
    },
    {
      "cell_type": "markdown",
      "metadata": {
        "id": "Io1i7ses6tm5"
      },
      "source": [
        "---\n",
        "## <A NAME=\"RS06:paired\">繰り返しのある一元配置分散分析</A>\n",
        "\n",
        "一元配置分散分析(繰り返しあり)では、同じ被験者が複数の条件を経験する(<font class=\"word\">被験者内計画のデータ</font>)というような対応があるデータを対象とする\n",
        "<BR>"
      ]
    },
    {
      "cell_type": "markdown",
      "metadata": {
        "id": "UY-JMiFb6tnA"
      },
      "source": [
        "[参考: 繰り返しのあるなしの違い]\n",
        "\n",
        "データに『繰り返しがある（反復、対応がある、ともいう）』ということは、それだけ情報が多い(データだから、それを用いた検定が可能になります。「繰り返しのあるt検定」について述べ、そこで取り上げた例題では結論は変わらなかったものの、対応のある検定の方がp値が小さい、ということを見ました。ここで取り上げる例題でも同じようなことがわかります。以下ではデータに「繰り返しがない」ものとして検定した結果を載せます。\n",
        "\n",
        "```\n",
        "import numpy as np\n",
        "import scipy.stats as st\n",
        "Algebra = np.array([7,8,9,5,6])\n",
        "Calculus = np.array([5,4,7,1,3])\n",
        "Statistics = np.array([8,6,7,2,5])  # 好き嫌い度\n",
        "print( st.f_oneway(Algebra, Calculus, Statistics) )\n",
        "⇒ F_onewayResult(statistic=2.6406250000000004, pvalue=0.11210798800331405)\n",
        "```\n",
        "\n",
        "『繰り返しのない』データとしての検定は、F値が2.64で、p値は0.112なので、有意水準0.05よりも大きいため、\n",
        "帰無仮説は棄却されない。<P>\n",
        "この結果と、本文で述べる「繰り返しがある」場合の結果とを比べてみてください。"
      ]
    },
    {
      "cell_type": "code",
      "execution_count": null,
      "metadata": {
        "colab": {
          "base_uri": "https://localhost:8080/"
        },
        "id": "qqHQZZoC6tnA",
        "outputId": "fac5ee21-aa7a-4a46-cc5a-9acb3bc79c23"
      },
      "outputs": [
        {
          "output_type": "stream",
          "name": "stdout",
          "text": [
            "F_onewayResult(statistic=2.6406250000000004, pvalue=0.11210798800331405)\n"
          ]
        }
      ],
      "source": [
        "import numpy as np\n",
        "import scipy.stats as st\n",
        "Algebra = np.array([7,8,9,5,6])\n",
        "Calculus = np.array([5,4,7,1,3])\n",
        "Statistics = np.array([8,6,7,2,5])  # 好き嫌い度\n",
        "print( st.f_oneway(Algebra, Calculus, Statistics) )"
      ]
    },
    {
      "cell_type": "markdown",
      "metadata": {
        "id": "m2suI56R6tnA"
      },
      "source": [
        "例題: 以下の表は5名の学生に、線形代数、微分積分、確率統計に対する好意度の評定データである。\n",
        "これら3つの科目に対する好意度に差があるだろうか？（念のため：これは１要因３水準)\n",
        "<table border=4 width=600 align=center>\n",
        "  <tr bgcolor=\"#cccccc\">\n",
        "    <th width=25%>学生</th>\n",
        "    <th width=25%>線形代数</th>\n",
        "    <th width=25%>微分積分</th>\n",
        "    <th width=25%>確率統計</th>\n",
        "  </tr>\n",
        "  <tr>\n",
        "\t<td align=\"center\" cellpadding=10>田中 </td>\n",
        "\t<td align=\"center\" cellpadding=10> 7</td>\n",
        "\t<td align=\"center\" cellpadding=10>5 </td>\n",
        "\t<td align=\"center\" cellpadding=10> 8</td>\n",
        "  </tr>\n",
        "  <tr>\n",
        "\t<td align=\"center\" cellpadding=10> 岸</td>\n",
        "\t<td align=\"center\" cellpadding=10>8 </td>\n",
        "\t<td align=\"center\" cellpadding=10>4 </td>\n",
        "\t<td align=\"center\" cellpadding=10>6</td>\n",
        "  </tr>  <tr>\n",
        "\t<td align=\"center\" cellpadding=10>大引</td>\n",
        "\t<td align=\"center\" cellpadding=10> 9</td>\n",
        "\t<td align=\"center\" cellpadding=10>7</td>\n",
        "\t<td align=\"center\" cellpadding=10>7</td>\n",
        "  </tr>  <tr>\n",
        "\t<td align=\"center\" cellpadding=10> 吉川</td>\n",
        "\t<td align=\"center\" cellpadding=10> 5</td>\n",
        "\t<td align=\"center\" cellpadding=10> 1</td>\n",
        "\t<td align=\"center\" cellpadding=10> 2</td>\n",
        "  </tr>  <tr>\n",
        "\t<td align=\"center\" cellpadding=10>荻野</td>\n",
        "\t<td align=\"center\" cellpadding=10> 6</td>\n",
        "\t<td align=\"center\" cellpadding=10> 3</td>\n",
        "\t<td align=\"center\" cellpadding=10>5 </td>\n",
        "  </tr>\n",
        "</table>"
      ]
    },
    {
      "cell_type": "markdown",
      "metadata": {
        "id": "HTE_Qn3P6tnA"
      },
      "source": [
        "Pythonを用いた計算方法の紹介\n",
        "<OL class=\"other\">\n",
        " <LI> 帰無仮説と対立仮説の設定<UL>\n",
        "　 <LI>帰無仮説 H<sub>0</sub>：3科目の好意度の母平均は等しい\n",
        "　 <LI>対立仮説 H<sub>1</sub>：3科目の好意度の母平均は等しくない\n",
        "</UL>\n",
        " <LI>検定統計量の選択 ---\n",
        "次のFを検定統計量とする: <IMG  class=\"exp\" SRC=\"http://whitewell.sakura.ne.jp/PythonProbStat/Figs/F.png\"  width=\"35%\" hspace=\"1\" align=\"center\" />\n",
        "<BR>\n",
        "これは帰無仮説（すべての群の母平均が等しいとき）のもとで、F分布に従う\n",
        "<LI> 有意水準$\\alpha$の決定: ここでは有意水準は5%、つまり$\\alpha=0.05$とする\n",
        "<BR>\n",
        "F分布のグラフから明らかなように、F分布は正値を取る⇒　<font class=\"rule\">分散分析は常に片側検定</font>\n",
        " <LI>検定統計量の実現値を求める: Pythonでは、ややマイナーな pyvttbl モジュールを用いる\n",
        "\n",
        "```\n",
        "Algebra=[7,8,9,5,6] ; Calculus = [5,4,7,1,3] ; Statistics=[8,6,7,2,5]\n",
        "Students=list(range(5))    # ['Tanaka','Kisi','Obiki','Yosikawa','Ogino']\n",
        "Favorness = np.array(Algebra+Calculus+Statistics)  # 好意度をまとめrる\n",
        "Condition = np.repeat(['algebra','calculus','statistics'],len(Algebra)) # Favornessに合わせた科目のリスト\n",
        "Subjects = np.array(Students+Students+Students)  # Favornessに合わせた人のリスト\n",
        "df = pt.DataFrame({'Favorness':Favorness,'Condition':Condition,'Subjects':Subjects}) # データフレームを作る\n",
        "aov=df.anova('Favorness',sub='Subjects',wfactors=['Condition'])  # 対応のある１要因分散分析\n",
        "print(aov)\n",
        "```\n",
        "この結果いろいろな表示がでるが、注目点だけ示す:\n",
        "\n",
        "```\n",
        "Favorness ~ Condition  #  Favorness(好意度)をCondition(条件、この場合は科目)から分析する\n",
        "\n",
        "TESTS OF WITHIN SUBJECTS EFFECTS   # 「人」の対応ありのもとでの検定\n",
        "\n",
        "# 以下はいろいろな検定方法で試されている。Sig の項がp値であり、0.002と小さい値であり5%基準で有意な差があることが示されている。\n",
        "\n",
        "Measure: Favorness\n",
        "     Source                             Type III    eps     df       MS       F      Sig.    et2_G   Obs.    SE     95% CI   lambda   Obs.  \n",
        "                                           SS                                                                                         Power\n",
        "===========================================================================================================================================\n",
        "Condition          Sphericity Assumed     22.533       -       2   11.267   14.696   0.002   0.440      5   0.461    0.903   18.370   0.890\n",
        "\n",
        "# 科目ごとの平均と標準偏差。これでみると線形代数(algebra)と微分積分(calculus)の間に差があるようにみえる\n",
        "TABLES OF ESTIMATED MARGINAL MEANS\n",
        "\n",
        "Estimated Marginal Means for Condition\n",
        "Condition    Mean    Std. Error   95% Lower Bound   95% Upper Bound\n",
        "===================================================================\n",
        "algebra          7        0.707             5.614             8.386\n",
        "calculus         4            1             2.040             5.960\n",
        "statistics   5.600        1.030             3.582             7.618\n",
        "```\n",
        "  <LI>帰無仮説の棄却か採択かの決定: 結果の出力のSig列において、p値が 0.002 と得られているので、5%の有意水準で、\n",
        "科目間に有意な差があることが認められた。\n",
        "\n",
        "</OL>"
      ]
    },
    {
      "cell_type": "markdown",
      "metadata": {
        "id": "MSS85e4w6tnA"
      },
      "source": [
        "[参考: 『人』がなぜ必要？]\n",
        " まず『人』を含めない場合は先に見たように p値は 0.112となり、科目の効果だけでは好意度の平均に有意な差が認められません。\n",
        "そもそもこのデータにおいて『対応がある』としたのは、同じ人に対しそれぞれの科目の好意度のデータを集めたので、『対応関係がある』からです。\n",
        "言い換えれば、「好意度」データを説明する要因として『科目』と『人』があり、『人』を考慮することでデータに「対応がある」と認められたのです。\n",
        "</div>"
      ]
    },
    {
      "cell_type": "code",
      "execution_count": null,
      "metadata": {
        "scrolled": false,
        "colab": {
          "base_uri": "https://localhost:8080/"
        },
        "id": "nUsYUeAO6tnA",
        "outputId": "d081f1dd-1178-4f0e-cadf-219afcabf1d1"
      },
      "outputs": [
        {
          "output_type": "stream",
          "name": "stdout",
          "text": [
            "<class 'pandas.core.frame.DataFrame'>\n",
            "RangeIndex: 15 entries, 0 to 14\n",
            "Data columns (total 3 columns):\n",
            " #   Column     Non-Null Count  Dtype \n",
            "---  ------     --------------  ----- \n",
            " 0   Favorness  15 non-null     int64 \n",
            " 1   Condition  15 non-null     object\n",
            " 2   Subjects   15 non-null     int64 \n",
            "dtypes: int64(2), object(1)\n",
            "memory usage: 488.0+ bytes\n"
          ]
        }
      ],
      "source": [
        "# データの準備：DataFrameを作る\n",
        "import statsmodels.tsa.api as sm\n",
        "from statsmodels.formula.api import ols\n",
        "import pandas as pd\n",
        "\n",
        "Algebra=[7,8,9,5,6] ; Calculus = [5,4,7,1,3] ; Statistics=[8,6,7,2,5]\n",
        "Students=list(range(5))    # ['Tanaka','Kisi','Obiki','Yosikawa','Ogino']\n",
        "Favorness = np.array(Algebra+Calculus+Statistics)\n",
        "Condition = np.repeat(['algebra','calculus','statistics'],len(Algebra))\n",
        "Subjects = np.array(Students+Students+Students)\n",
        "df = pd.DataFrame({'Favorness':Favorness,'Condition':Condition,'Subjects':Subjects})\n",
        "df.info()"
      ]
    },
    {
      "cell_type": "code",
      "execution_count": null,
      "metadata": {
        "colab": {
          "base_uri": "https://localhost:8080/",
          "height": 206
        },
        "id": "bpI9Cazm6tnA",
        "outputId": "dfd1ea2d-cdcb-4fba-9ea8-9748e07703bc"
      },
      "outputs": [
        {
          "output_type": "execute_result",
          "data": {
            "text/plain": [
              "   Favorness Condition  Subjects\n",
              "0          7   algebra         0\n",
              "1          8   algebra         1\n",
              "2          9   algebra         2\n",
              "3          5   algebra         3\n",
              "4          6   algebra         4"
            ],
            "text/html": [
              "\n",
              "  <div id=\"df-9229d955-f05f-46a6-b7bb-3f8e5ccb27af\" class=\"colab-df-container\">\n",
              "    <div>\n",
              "<style scoped>\n",
              "    .dataframe tbody tr th:only-of-type {\n",
              "        vertical-align: middle;\n",
              "    }\n",
              "\n",
              "    .dataframe tbody tr th {\n",
              "        vertical-align: top;\n",
              "    }\n",
              "\n",
              "    .dataframe thead th {\n",
              "        text-align: right;\n",
              "    }\n",
              "</style>\n",
              "<table border=\"1\" class=\"dataframe\">\n",
              "  <thead>\n",
              "    <tr style=\"text-align: right;\">\n",
              "      <th></th>\n",
              "      <th>Favorness</th>\n",
              "      <th>Condition</th>\n",
              "      <th>Subjects</th>\n",
              "    </tr>\n",
              "  </thead>\n",
              "  <tbody>\n",
              "    <tr>\n",
              "      <th>0</th>\n",
              "      <td>7</td>\n",
              "      <td>algebra</td>\n",
              "      <td>0</td>\n",
              "    </tr>\n",
              "    <tr>\n",
              "      <th>1</th>\n",
              "      <td>8</td>\n",
              "      <td>algebra</td>\n",
              "      <td>1</td>\n",
              "    </tr>\n",
              "    <tr>\n",
              "      <th>2</th>\n",
              "      <td>9</td>\n",
              "      <td>algebra</td>\n",
              "      <td>2</td>\n",
              "    </tr>\n",
              "    <tr>\n",
              "      <th>3</th>\n",
              "      <td>5</td>\n",
              "      <td>algebra</td>\n",
              "      <td>3</td>\n",
              "    </tr>\n",
              "    <tr>\n",
              "      <th>4</th>\n",
              "      <td>6</td>\n",
              "      <td>algebra</td>\n",
              "      <td>4</td>\n",
              "    </tr>\n",
              "  </tbody>\n",
              "</table>\n",
              "</div>\n",
              "    <div class=\"colab-df-buttons\">\n",
              "\n",
              "  <div class=\"colab-df-container\">\n",
              "    <button class=\"colab-df-convert\" onclick=\"convertToInteractive('df-9229d955-f05f-46a6-b7bb-3f8e5ccb27af')\"\n",
              "            title=\"Convert this dataframe to an interactive table.\"\n",
              "            style=\"display:none;\">\n",
              "\n",
              "  <svg xmlns=\"http://www.w3.org/2000/svg\" height=\"24px\" viewBox=\"0 -960 960 960\">\n",
              "    <path d=\"M120-120v-720h720v720H120Zm60-500h600v-160H180v160Zm220 220h160v-160H400v160Zm0 220h160v-160H400v160ZM180-400h160v-160H180v160Zm440 0h160v-160H620v160ZM180-180h160v-160H180v160Zm440 0h160v-160H620v160Z\"/>\n",
              "  </svg>\n",
              "    </button>\n",
              "\n",
              "  <style>\n",
              "    .colab-df-container {\n",
              "      display:flex;\n",
              "      gap: 12px;\n",
              "    }\n",
              "\n",
              "    .colab-df-convert {\n",
              "      background-color: #E8F0FE;\n",
              "      border: none;\n",
              "      border-radius: 50%;\n",
              "      cursor: pointer;\n",
              "      display: none;\n",
              "      fill: #1967D2;\n",
              "      height: 32px;\n",
              "      padding: 0 0 0 0;\n",
              "      width: 32px;\n",
              "    }\n",
              "\n",
              "    .colab-df-convert:hover {\n",
              "      background-color: #E2EBFA;\n",
              "      box-shadow: 0px 1px 2px rgba(60, 64, 67, 0.3), 0px 1px 3px 1px rgba(60, 64, 67, 0.15);\n",
              "      fill: #174EA6;\n",
              "    }\n",
              "\n",
              "    .colab-df-buttons div {\n",
              "      margin-bottom: 4px;\n",
              "    }\n",
              "\n",
              "    [theme=dark] .colab-df-convert {\n",
              "      background-color: #3B4455;\n",
              "      fill: #D2E3FC;\n",
              "    }\n",
              "\n",
              "    [theme=dark] .colab-df-convert:hover {\n",
              "      background-color: #434B5C;\n",
              "      box-shadow: 0px 1px 3px 1px rgba(0, 0, 0, 0.15);\n",
              "      filter: drop-shadow(0px 1px 2px rgba(0, 0, 0, 0.3));\n",
              "      fill: #FFFFFF;\n",
              "    }\n",
              "  </style>\n",
              "\n",
              "    <script>\n",
              "      const buttonEl =\n",
              "        document.querySelector('#df-9229d955-f05f-46a6-b7bb-3f8e5ccb27af button.colab-df-convert');\n",
              "      buttonEl.style.display =\n",
              "        google.colab.kernel.accessAllowed ? 'block' : 'none';\n",
              "\n",
              "      async function convertToInteractive(key) {\n",
              "        const element = document.querySelector('#df-9229d955-f05f-46a6-b7bb-3f8e5ccb27af');\n",
              "        const dataTable =\n",
              "          await google.colab.kernel.invokeFunction('convertToInteractive',\n",
              "                                                    [key], {});\n",
              "        if (!dataTable) return;\n",
              "\n",
              "        const docLinkHtml = 'Like what you see? Visit the ' +\n",
              "          '<a target=\"_blank\" href=https://colab.research.google.com/notebooks/data_table.ipynb>data table notebook</a>'\n",
              "          + ' to learn more about interactive tables.';\n",
              "        element.innerHTML = '';\n",
              "        dataTable['output_type'] = 'display_data';\n",
              "        await google.colab.output.renderOutput(dataTable, element);\n",
              "        const docLink = document.createElement('div');\n",
              "        docLink.innerHTML = docLinkHtml;\n",
              "        element.appendChild(docLink);\n",
              "      }\n",
              "    </script>\n",
              "  </div>\n",
              "\n",
              "\n",
              "<div id=\"df-3401790f-f794-40b2-8c0f-48dd20b45757\">\n",
              "  <button class=\"colab-df-quickchart\" onclick=\"quickchart('df-3401790f-f794-40b2-8c0f-48dd20b45757')\"\n",
              "            title=\"Suggest charts\"\n",
              "            style=\"display:none;\">\n",
              "\n",
              "<svg xmlns=\"http://www.w3.org/2000/svg\" height=\"24px\"viewBox=\"0 0 24 24\"\n",
              "     width=\"24px\">\n",
              "    <g>\n",
              "        <path d=\"M19 3H5c-1.1 0-2 .9-2 2v14c0 1.1.9 2 2 2h14c1.1 0 2-.9 2-2V5c0-1.1-.9-2-2-2zM9 17H7v-7h2v7zm4 0h-2V7h2v10zm4 0h-2v-4h2v4z\"/>\n",
              "    </g>\n",
              "</svg>\n",
              "  </button>\n",
              "\n",
              "<style>\n",
              "  .colab-df-quickchart {\n",
              "      --bg-color: #E8F0FE;\n",
              "      --fill-color: #1967D2;\n",
              "      --hover-bg-color: #E2EBFA;\n",
              "      --hover-fill-color: #174EA6;\n",
              "      --disabled-fill-color: #AAA;\n",
              "      --disabled-bg-color: #DDD;\n",
              "  }\n",
              "\n",
              "  [theme=dark] .colab-df-quickchart {\n",
              "      --bg-color: #3B4455;\n",
              "      --fill-color: #D2E3FC;\n",
              "      --hover-bg-color: #434B5C;\n",
              "      --hover-fill-color: #FFFFFF;\n",
              "      --disabled-bg-color: #3B4455;\n",
              "      --disabled-fill-color: #666;\n",
              "  }\n",
              "\n",
              "  .colab-df-quickchart {\n",
              "    background-color: var(--bg-color);\n",
              "    border: none;\n",
              "    border-radius: 50%;\n",
              "    cursor: pointer;\n",
              "    display: none;\n",
              "    fill: var(--fill-color);\n",
              "    height: 32px;\n",
              "    padding: 0;\n",
              "    width: 32px;\n",
              "  }\n",
              "\n",
              "  .colab-df-quickchart:hover {\n",
              "    background-color: var(--hover-bg-color);\n",
              "    box-shadow: 0 1px 2px rgba(60, 64, 67, 0.3), 0 1px 3px 1px rgba(60, 64, 67, 0.15);\n",
              "    fill: var(--button-hover-fill-color);\n",
              "  }\n",
              "\n",
              "  .colab-df-quickchart-complete:disabled,\n",
              "  .colab-df-quickchart-complete:disabled:hover {\n",
              "    background-color: var(--disabled-bg-color);\n",
              "    fill: var(--disabled-fill-color);\n",
              "    box-shadow: none;\n",
              "  }\n",
              "\n",
              "  .colab-df-spinner {\n",
              "    border: 2px solid var(--fill-color);\n",
              "    border-color: transparent;\n",
              "    border-bottom-color: var(--fill-color);\n",
              "    animation:\n",
              "      spin 1s steps(1) infinite;\n",
              "  }\n",
              "\n",
              "  @keyframes spin {\n",
              "    0% {\n",
              "      border-color: transparent;\n",
              "      border-bottom-color: var(--fill-color);\n",
              "      border-left-color: var(--fill-color);\n",
              "    }\n",
              "    20% {\n",
              "      border-color: transparent;\n",
              "      border-left-color: var(--fill-color);\n",
              "      border-top-color: var(--fill-color);\n",
              "    }\n",
              "    30% {\n",
              "      border-color: transparent;\n",
              "      border-left-color: var(--fill-color);\n",
              "      border-top-color: var(--fill-color);\n",
              "      border-right-color: var(--fill-color);\n",
              "    }\n",
              "    40% {\n",
              "      border-color: transparent;\n",
              "      border-right-color: var(--fill-color);\n",
              "      border-top-color: var(--fill-color);\n",
              "    }\n",
              "    60% {\n",
              "      border-color: transparent;\n",
              "      border-right-color: var(--fill-color);\n",
              "    }\n",
              "    80% {\n",
              "      border-color: transparent;\n",
              "      border-right-color: var(--fill-color);\n",
              "      border-bottom-color: var(--fill-color);\n",
              "    }\n",
              "    90% {\n",
              "      border-color: transparent;\n",
              "      border-bottom-color: var(--fill-color);\n",
              "    }\n",
              "  }\n",
              "</style>\n",
              "\n",
              "  <script>\n",
              "    async function quickchart(key) {\n",
              "      const quickchartButtonEl =\n",
              "        document.querySelector('#' + key + ' button');\n",
              "      quickchartButtonEl.disabled = true;  // To prevent multiple clicks.\n",
              "      quickchartButtonEl.classList.add('colab-df-spinner');\n",
              "      try {\n",
              "        const charts = await google.colab.kernel.invokeFunction(\n",
              "            'suggestCharts', [key], {});\n",
              "      } catch (error) {\n",
              "        console.error('Error during call to suggestCharts:', error);\n",
              "      }\n",
              "      quickchartButtonEl.classList.remove('colab-df-spinner');\n",
              "      quickchartButtonEl.classList.add('colab-df-quickchart-complete');\n",
              "    }\n",
              "    (() => {\n",
              "      let quickchartButtonEl =\n",
              "        document.querySelector('#df-3401790f-f794-40b2-8c0f-48dd20b45757 button');\n",
              "      quickchartButtonEl.style.display =\n",
              "        google.colab.kernel.accessAllowed ? 'block' : 'none';\n",
              "    })();\n",
              "  </script>\n",
              "</div>\n",
              "    </div>\n",
              "  </div>\n"
            ]
          },
          "metadata": {},
          "execution_count": 30
        }
      ],
      "source": [
        "df[:5]"
      ]
    },
    {
      "cell_type": "code",
      "execution_count": null,
      "metadata": {
        "id": "4Va5FPuu6tnA"
      },
      "outputs": [],
      "source": [
        "# statsmodels.statsのanova.AnovaRMを用いる、インスタンスを作ってfit()する\n",
        "import statsmodels.stats.anova as anova\n",
        "aov=anova.AnovaRM(df, 'Favorness','Subjects',['Condition'])\n",
        "result=aov.fit()"
      ]
    },
    {
      "cell_type": "code",
      "execution_count": null,
      "metadata": {
        "colab": {
          "base_uri": "https://localhost:8080/"
        },
        "id": "UrqFuOUI6tnB",
        "outputId": "773a0459-f6ba-4280-d6aa-1210b9e947de"
      },
      "outputs": [
        {
          "output_type": "stream",
          "name": "stdout",
          "text": [
            "                Anova\n",
            "======================================\n",
            "          F Value Num DF Den DF Pr > F\n",
            "--------------------------------------\n",
            "Condition 14.6957 2.0000 8.0000 0.0021\n",
            "======================================\n",
            "\n"
          ]
        }
      ],
      "source": [
        "print(result)\n",
        "# 有意水準は5%、つまり0.05とする"
      ]
    },
    {
      "cell_type": "code",
      "execution_count": null,
      "metadata": {
        "colab": {
          "base_uri": "https://localhost:8080/"
        },
        "id": "zBbEN8gO6tnB",
        "outputId": "7cd5ae7b-20fa-41fc-c86f-6967cbcb88e1"
      },
      "outputs": [
        {
          "output_type": "stream",
          "name": "stdout",
          "text": [
            "Multiple Comparison of Means - Tukey HSD, FWER=0.05\n",
            "===================================================\n",
            "group1 group2 meandiff p-adj   lower  upper  reject\n",
            "---------------------------------------------------\n",
            "     A      C     -3.0 0.0949 -6.4853 0.4853  False\n",
            "     A      S     -1.4 0.5485 -4.8853 2.0853  False\n",
            "     C      S      1.6 0.4619 -1.8853 5.0853  False\n",
            "---------------------------------------------------\n"
          ]
        }
      ],
      "source": [
        "# 5%で有意差があるので、多重比較する\n",
        "tukey_hsd_2(list('ACS') , Algebra,Calculus,Statistics)"
      ]
    },
    {
      "cell_type": "markdown",
      "metadata": {
        "id": "jPXi0Oag6tnB"
      },
      "source": [
        "## <A NAME=\"Functions\">関数のまとめ</A>\n",
        "注:  scipy.statsをst、statsmodels.stats.anovaをanovaと略記する\n",
        "\n",
        "<table border=2 width=800 align=left>\n",
        "  <tr bgcolor=\"#cccccc\">\n",
        "    <th align=\"left\" width=20%>目的 </th>\n",
        "    <th align=\"left\" width=40%>関数名とモジュール</th>\n",
        "    <th align=\"left\" width=40%>使い方</th>\n",
        "  </tr>\n",
        "  <tr>\n",
        "\t<td align=\"left\" cellpadding=10>一元配置分散分析(対応なし)</td>\n",
        "\t<td align=\"left\" cellpadding=10>st.f_oneway(配列$_1$,$\\ldots$,配列$_n$)</td>\n",
        "\t<td align=\"left\" cellpadding=10> st.f_oneway(Algebra,Caluculus,Statistics) ⇒ F値とp値</td>\n",
        "  </tr>\n",
        "      <tr>\n",
        "\t<td align=\"left\" cellpadding=10>一元配置分散分析(対応あり)</td>\n",
        "\t<td align=\"left\" cellpadding=10>anova.AnovaRM(データフレーム,依存変数名,人名, その他の属性のリスト]).fit()</td>\n",
        "\t<td align=\"left\" cellpadding=10>anova.AnovaRM(df, 'Favorness','Subjects',['Condition'])).fit()</td>\n",
        "  </tr>\n",
        "      <tr>\n",
        "\t<td align=\"left\" cellpadding=10>テューキーの多重分析</td>\n",
        "\t<td align=\"left\" cellpadding=10>from statsmodels.stats.multicomp import pairwise_tukeyhsd</td>\n",
        "\t<td align=\"left\" cellpadding=10></td>\n",
        "  </tr>\n",
        "  <tr>\n",
        "\t<td align=\"left\" cellpadding=10>（続き)</td>\n",
        "\t<td align=\"left\" cellpadding=10>pairwise_tukeyhsd(データをタプルで, 名称のリスト)もしくは自作関数tukey_hsd</td>\n",
        "\t<td align=\"left\" cellpadding=10>pairwise_tukeyhsd(data_arr,ind_arr)</td>\n",
        "  </tr>\n",
        "<tr>\n",
        "    <td align=\"left\" cellpadding=10>分散の等質性の検定</td>\n",
        "    <td>st.bartlett(データ$_1$,$\\ldots$)</td>\n",
        "    <td>st.bartlett(A,B,C)</td>\n",
        "    </tr>\n",
        "    </table>\n"
      ]
    },
    {
      "cell_type": "markdown",
      "metadata": {
        "id": "H570FicH6tnB"
      },
      "source": [
        "## <A NAME=\"Exercises\">演習問題</A>\n",
        "\n",
        "#### 演習問題１\n",
        "ある大学の4学部から8名ずつの学生を無作為抽出して得られた結果が以下である。学部間でテストの母平均に差があるかどうか、\n",
        "有意水準5%で分散分析を行え。"
      ]
    },
    {
      "cell_type": "code",
      "execution_count": null,
      "metadata": {
        "id": "_iDIxVij6tnB"
      },
      "outputs": [],
      "source": [
        "import numpy as np\n",
        "Hougakubu = np.array([75, 61, 68, 58, 66, 55, 65, 63])\n",
        "Bungakubu = np.array([62, 60, 66, 63, 55, 53, 59, 63])\n",
        "Rigakubu = np.array([65, 60, 78, 52, 59, 66, 73, 64])\n",
        "Kougakubu = np.array([52, 59, 44, 67, 47, 53, 58, 49])"
      ]
    },
    {
      "cell_type": "markdown",
      "metadata": {
        "id": "GHYAqmqd6tnD"
      },
      "source": [
        "#### 演習問題２\n",
        "<A HREF=\"shidouhou.csv\" target=\"_blank\">shidouhou.csv</A>はCSV形式のファイルであり、20人の学生に対し、名前、性別、数学と統計の好き嫌い、心理学テスト、統計テスト１、統計テスト２のそれぞれの成績、そして指導方法の種別のデータが収められている。\n",
        "このデータを読み込み、統計テスト1の成績が男女の違いで差があるかどうか、また統計の好き嫌いで差があるかどうかをそれぞれ検定せよ。\n",
        "\n",
        "[参考: csvファイルを読み込む (再掲)</a>]\n",
        "\n",
        "区切り記号がコンマのcsvファイルを読み込み、その内容をデータフレームとして取り込むには、pandasモジュールのread_csv関数を用いる。\n",
        "\n",
        "もっとも中にはちゃんと読み込めないこともあるので、値を確認すること。そして読み込めない場合は、区切り記号を適切なものにセットしたりすることも考えよう。\n",
        "\n",
        "日本語を含むデータの文字コードは、shift_jisだが、CSVファイル内に拡張文字に該当する文字を使用していると、shift_jisでは読み込めない。\n",
        "拡張文字が含まれている場合は、encoding='cp932'を指定する必要がある。"
      ]
    },
    {
      "cell_type": "markdown",
      "metadata": {
        "id": "djpuFd9O6tnE"
      },
      "source": [
        "#### 演習問題３\n",
        "下は小学校１年生から６年生まで、各学年から５人ずつ無作為抽出し、50メートル走のタイムを計測したデータである。学年による違いがあるか、検討せよ(出典: 長畑(2009)『Rで学ぶ統計学』共立出版)\n"
      ]
    },
    {
      "cell_type": "code",
      "execution_count": null,
      "metadata": {
        "id": "W59QTkdj6tnE"
      },
      "outputs": [],
      "source": [
        "import numpy as np\n",
        "Grade1 = np.array([11.3, 12.4, 15.5, 13.6, 12.4])\n",
        "Grade2 = np.array([12.3, 13.4, 11.5, 11.6, 10.8])\n",
        "Grade3 = np.array([9.2, 10.4, 8.6, 9.8, 10.7])\n",
        "Grade4 = np.array([9.5, 8.4, 9.8, 10.4, 7.8])\n",
        "Grade5 = np.array([8.4, 7.5, 8.6, 7.9, 8.3])\n",
        "Grade6 = np.array([7.8, 8.5, 7.6, 7.2, 7.5])"
      ]
    },
    {
      "cell_type": "markdown",
      "metadata": {
        "id": "ZjFdEjWA6tnF"
      },
      "source": [
        "#### 演習問題４\n",
        "\n",
        "下は3種類の1500ccの乗用車を繰り返し4回走行させ、その1リットルあたりの走行距離(燃費)を計測したものである。\n",
        "車種による違いがあるか、分散分析せよ。(出典: 長畑(2009)『Rで学ぶ統計学』共立出版)"
      ]
    },
    {
      "cell_type": "code",
      "execution_count": null,
      "metadata": {
        "id": "62wWBcvN6tnF"
      },
      "outputs": [],
      "source": [
        "import numpy as np\n",
        "A = np.array([8.0, 9.0,  7.0,   6.0])\n",
        "B  = np.array([12.0, 11.0, 13.0, 12.0])\n",
        "C  = np.array([ 9.0, 10.0,  9.0,  8.0])"
      ]
    }
  ],
  "metadata": {
    "kernelspec": {
      "display_name": "Python 3 (ipykernel)",
      "language": "python",
      "name": "python3"
    },
    "language_info": {
      "codemirror_mode": {
        "name": "ipython",
        "version": 3
      },
      "file_extension": ".py",
      "mimetype": "text/x-python",
      "name": "python",
      "nbconvert_exporter": "python",
      "pygments_lexer": "ipython3",
      "version": "3.11.4"
    },
    "colab": {
      "provenance": [],
      "include_colab_link": true
    }
  },
  "nbformat": 4,
  "nbformat_minor": 0
}